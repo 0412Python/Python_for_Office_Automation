{
 "cells": [
  {
   "cell_type": "markdown",
   "id": "f38a64d7-1cae-4681-a42b-53c71b3b511b",
   "metadata": {},
   "source": [
    "# 开始之前 🚀\n",
    "\n",
    "## 如果你能打开下面连接：\n",
    "\n",
    "[Jupyter Notebook](https://jupyter.org/try-jupyter/lab/)\n",
    "\n",
    "请将下列文件上传到根目录：\n",
    "- 📁 00_Beofore_Start.ipynb\n",
    "- 📁 01_Hello_World.ipynb\n",
    "- 📁 02_Basic_Data_Types.ipynb\n",
    "- 📁 03_Container_Data_Data_Types.ipynb\n",
    "- 📁 04_Control_Flow_and_Function.ipynb\n",
    "- 📁 05_Load_Your_Own_Data.ipynb\n",
    "- 📁 99_Openpyxl_Teaser.ipynb\n",
    "\n",
    "创建Resource文件夹并将下列文件上传到Resource文件夹：\n",
    "- 📸 excel.jpg\n",
    "- 📸 function.jpg\n",
    "- 📸 Guido.jpg\n",
    "- 📸 if_else.png\n",
    "- 📸 list.jpg\n",
    "- 📸 Monty_Python.jpg\n",
    "- 📸 openpyxl.png\n",
    "- 📸 python.jfif\n",
    "- 📸 variables.jpg\n",
    "- 📸 请看下集.jfif\n",
    "- 📸 upload.jpg\n",
    "- 📸 create_folder.jpg\n",
    "  \n",
    "上传文件按钮：\n",
    "\n",
    "![upload](https://github.com/0412Python/Python_for_Office_Automation/blob/main/Resource/upload.jpg?raw=ture)\n",
    "\n",
    "创建文件夹按钮：\n",
    "\n",
    "![create_folder](https://github.com/0412Python/Python_for_Office_Automation/blob/main/Resource/create_folder.jpg?raw=ture)\n",
    "\n",
    "## 如果你不能打开上面连接\n",
    "\n",
    "请查看对应PDF教程并使用下面连接进行代码的调试仿真\n",
    "\n",
    "[在线Python工具](https://lwebapp.com/zh/python-playground)"
   ]
  },
  {
   "cell_type": "markdown",
   "id": "653e0726-fa5a-47f4-b029-71b35f1717f8",
   "metadata": {},
   "source": [
    "# 和AI一起学习 🤖\n",
    "\n",
    "## 如果你有常用的生成式AI\n",
    "\n",
    "例如 \n",
    "- 🧠 文心一言 \n",
    "- 🤖 Kimi\n",
    "- 💬 ChatGPT等\n",
    "\n",
    "在授课和日常使用的过程中，可以随时向它们提问，它们在编程领域解答的非常专业。当然，也非常欢迎随时向讲师进行提问。\n",
    "讲师联系方式：shu.3.liu@continental.com\n",
    "\n",
    "## 如果你从没有接触过\n",
    "\n",
    "可以试试微软的Copilot: [Link](https://www.microsoft365.com/chat/?auth=2&home=1)\n",
    "\n",
    "在公司内网使用不需要额外注册"
   ]
  }
 ],
 "metadata": {
  "kernelspec": {
   "display_name": "Python 3 (ipykernel)",
   "language": "python",
   "name": "python3"
  },
  "language_info": {
   "codemirror_mode": {
    "name": "ipython",
    "version": 3
   },
   "file_extension": ".py",
   "mimetype": "text/x-python",
   "name": "python",
   "nbconvert_exporter": "python",
   "pygments_lexer": "ipython3",
   "version": "3.12.4"
  }
 },
 "nbformat": 4,
 "nbformat_minor": 5
}