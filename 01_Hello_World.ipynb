{
 "cells": [
  {
   "cell_type": "markdown",
   "id": "79ffb672",
   "metadata": {},
   "source": [
    "# Python 简介\n",
    "欢迎来到你的第一个 Python 课程！在本课中，我们将学习什么是 Python（一种流行的编程语言），并学习如何使用 Jupyter Notebook 编写和运行你的第一个 Python 程序。\n"
   ]
  },
  {
   "cell_type": "markdown",
   "id": "f5706446",
   "metadata": {},
   "source": [
    "## 什么是 Jupyter Notebook?\n",
    "Jupyter Notebook 是一个交互式环境，你可以在其中通过基于 Web 的界面编写和运行代码。它因其灵活性和易用性而广泛应用于数据科学、教育和研究领域。\n",
    "\n",
    "### 运行一个单元格\n",
    "在 Jupyter 中，你可以通过选择单元格并按 `Shift + Enter` 键，或者点击工具栏中的 `Run` 按钮来运行其中的代码。\n"
   ]
  },
  {
   "cell_type": "markdown",
   "id": "57376be5",
   "metadata": {},
   "source": [
    "## 你的第一个 Python 程序: Hello World\n",
    "在编程中，编写一个 \"Hello, World!\" 程序通常是学习新语言的第一步。让我们编写第一个 Python 程序。\n"
   ]
  },
  {
   "cell_type": "code",
   "id": "3742676c",
   "metadata": {
    "ExecuteTime": {
     "end_time": "2024-08-24T13:37:35.661825Z",
     "start_time": "2024-08-24T13:37:35.658459Z"
    }
   },
   "source": [
    "# This is your first Python code\n",
    "print(\"Hello, World!\")\n"
   ],
   "outputs": [
    {
     "name": "stdout",
     "output_type": "stream",
     "text": [
      "Hello, World!\n"
     ]
    }
   ],
   "execution_count": 1
  },
  {
   "cell_type": "markdown",
   "id": "8872e60d",
   "metadata": {},
   "source": [
    "## 运行代码\n",
    "要运行上面的代码，请点击包含代码的单元格并按 `Shift + Enter`。你应该会看到下面显示的输出 \"Hello, World!\"。\n"
   ]
  },
  {
   "cell_type": "markdown",
   "id": "6b60f91d",
   "metadata": {},
   "source": [
    "## 输出解析\n",
    "当你运行 `print(\"Hello, World!\")` 命令时，Python 执行该命令并在屏幕上显示括号内的文本。\n",
    "\n",
    "- `print()` 是 Python 中的一个函数，它告诉计算机显示括号内的内容。\n",
    "- `\"Hello, World!\"` 是一个字符串，它只是用引号括起来的一系列字符。\n",
    "\n",
    "通过运行这段代码，你已经编写并执行了你的第一个 Python 程序！\n"
   ]
  },
  {
   "cell_type": "markdown",
   "id": "0b20f215",
   "metadata": {},
   "source": [
    "## 总结\n",
    "在本课中，你学习了：\n",
    "- 什么是 Python。\n",
    "- 如何使用 Jupyter Notebook。\n",
    "- 如何编写并运行你的第一个 Python 程序：`Hello, World!`。\n",
    "\n",
    "在下一节课中，我们将深入探讨 Python 基础知识，例如变量和数据类型。敬请期待！\n"
   ]
  }
 ],
 "metadata": {
  "kernelspec": {
   "name": "python3",
   "language": "python",
   "display_name": "Python 3 (ipykernel)"
  }
 },
 "nbformat": 4,
 "nbformat_minor": 5
}
