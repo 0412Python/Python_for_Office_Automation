{
 "cells": [
  {
   "cell_type": "markdown",
   "id": "a11007f2",
   "metadata": {},
   "source": [
    "# 控制流与函数\n",
    "\n",
    "在本章中，我们将学习如何通过条件语句和循环来控制程序的执行流，并了解如何定义和使用函数来提高代码的重用性和组织性。\n",
    "\n",
    "## 控制流\n",
    "\n",
    "### 条件语句\n",
    "条件语句用于根据条件的真假来决定执行哪段代码。最常见的条件语句是 `if` 语句，它可以与 `elif` 和 `else` 结合使用。\n"
   ]
  },
  {
   "cell_type": "code",
   "execution_count": null,
   "id": "6ec92f3a",
   "metadata": {},
   "outputs": [],
   "source": [
    "# If-elif-else example\n",
    "x = 10\n",
    "\n",
    "if x > 15:\n",
    "    result = \"x is greater than 15\"\n",
    "elif x == 10:\n",
    "    result = \"x is equal to 10\"\n",
    "else:\n",
    "    result = \"x is less than 15\"\n",
    "\n",
    "result\n"
   ]
  },
  {
   "cell_type": "markdown",
   "id": "47c3e3c5",
   "metadata": {},
   "source": [
    "### 循环\n",
    "循环用于重复执行某段代码，直到满足特定条件为止。Python 中有两种主要的循环结构：`for` 循环和 `while` 循环。\n",
    "\n",
    "#### For 循环\n",
    "`for` 循环用于遍历序列（如列表、元组、字符串）中的每个元素。\n"
   ]
  },
  {
   "cell_type": "code",
   "execution_count": null,
   "id": "fe1b535b",
   "metadata": {},
   "outputs": [],
   "source": [
    "# For loop example\n",
    "fruits = [\"apple\", \"banana\", \"cherry\"]\n",
    "fruit_list = []\n",
    "\n",
    "for fruit in fruits:\n",
    "    fruit_list.append(fruit)\n",
    "\n",
    "fruit_list\n"
   ]
  },
  {
   "cell_type": "markdown",
   "id": "09b9c08a",
   "metadata": {},
   "source": [
    "#### While 循环\n",
    "`while` 循环在条件为 `True` 时反复执行代码块。当条件变为 `False` 时，循环结束。\n"
   ]
  },
  {
   "cell_type": "code",
   "execution_count": null,
   "id": "b56129fd",
   "metadata": {},
   "outputs": [],
   "source": [
    "# While loop example\n",
    "count = 0\n",
    "numbers = []\n",
    "\n",
    "while count < 5:\n",
    "    numbers.append(count)\n",
    "    count += 1\n",
    "\n",
    "numbers\n"
   ]
  },
  {
   "cell_type": "markdown",
   "id": "8da1ff76",
   "metadata": {},
   "source": [
    "### 循环控制语句\n",
    "Python 提供了几种控制循环的语句：`break`，`continue` 和 `pass`。\n",
    "\n",
    "- `break`：立即终止循环。\n",
    "- `continue`：跳过当前迭代并继续下一次迭代。\n",
    "- `pass`：什么都不做，只是占位。\n"
   ]
  },
  {
   "cell_type": "code",
   "execution_count": null,
   "id": "b73e7a12",
   "metadata": {},
   "outputs": [],
   "source": [
    "# Loop control statements example\n",
    "numbers = []\n",
    "\n",
    "for i in range(10):\n",
    "    if i == 3:\n",
    "        continue  # Skip the rest of the code inside the loop for this iteration\n",
    "    elif i == 8:\n",
    "        break  # Exit the loop entirely\n",
    "    numbers.append(i)\n",
    "\n",
    "numbers\n"
   ]
  },
  {
   "cell_type": "markdown",
   "id": "55f516a1",
   "metadata": {},
   "source": [
    "## 函数\n",
    "\n",
    "函数是一段可重用的代码块，通过调用函数，你可以执行函数中定义的操作。使用 `def` 关键字定义函数。\n",
    "\n",
    "### 定义和调用函数\n"
   ]
  },
  {
   "cell_type": "code",
   "execution_count": null,
   "id": "51afed9c",
   "metadata": {},
   "outputs": [],
   "source": [
    "# Function definition and calling example\n",
    "def greet(name):\n",
    "    return f\"Hello, {name}!\"\n",
    "\n",
    "greeting = greet(\"Alice\")\n",
    "greeting\n"
   ]
  },
  {
   "cell_type": "markdown",
   "id": "51a29917",
   "metadata": {},
   "source": [
    "### 函数参数与返回值\n",
    "函数可以接受参数，并返回一个值或多个值。参数可以有默认值，也可以是可变数量的参数。\n"
   ]
  },
  {
   "cell_type": "code",
   "execution_count": null,
   "id": "eda9243e",
   "metadata": {},
   "outputs": [],
   "source": [
    "# Function with parameters and return value\n",
    "def add_numbers(a, b=5):\n",
    "    return a + b\n",
    "\n",
    "result_with_default = add_numbers(3)\n",
    "result_with_custom = add_numbers(3, 10)\n",
    "\n",
    "result_with_default, result_with_custom\n"
   ]
  },
  {
   "cell_type": "markdown",
   "id": "b45d7614",
   "metadata": {},
   "source": [
    "### 作用域\n",
    "\n",
    "Python 中的变量作用域决定了变量在哪里可以被访问。主要有两种作用域：局部作用域和全局作用域。\n",
    "\n",
    "- **局部变量**：在函数内部定义的变量，只能在函数内部访问。\n",
    "- **全局变量**：在函数外部定义的变量，可以在整个程序中访问。\n"
   ]
  },
  {
   "cell_type": "code",
   "execution_count": null,
   "id": "be07cf04",
   "metadata": {},
   "outputs": [],
   "source": [
    "# Scope example\n",
    "x = 10  # Global variable\n",
    "\n",
    "def change_x():\n",
    "    global x  # Declare that we are using the global variable\n",
    "    x = 5  # Modify the global variable\n",
    "\n",
    "change_x()\n",
    "x  # x is now changed to 5\n"
   ]
  }
 ],
 "metadata": {},
 "nbformat": 4,
 "nbformat_minor": 5
}
