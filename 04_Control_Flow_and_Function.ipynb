{
 "cells": [
  {
   "cell_type": "markdown",
   "id": "a11007f2",
   "metadata": {},
   "source": [
    "# 控制流与函数 🌐\n",
    "\n",
    "在本章中，我们将学习如何通过条件语句和循环来控制程序的执行流，并了解如何定义和使用函数来提高代码的重用性和组织性。\n",
    "\n",
    "## 控制流 🛠️\n",
    "\n",
    "### 条件语句 📜\n",
    "条件语句用于根据条件的真假来决定执行哪段代码。最常见的条件语句是 `if` 语句，它可以与 `elif` 和 `else` 结合使用。\n",
    "\n",
    "![if_else.png](https://github.com/0412Python/Python_for_Office_Automation/blob/main/Resource/if_else.png?raw=ture)\n"
   ]
  },
  {
   "cell_type": "code",
   "execution_count": null,
   "id": "6ec92f3a",
   "metadata": {},
   "outputs": [],
   "source": [
    "# If-elif-else example\n",
    "x = 10\n",
    "\n",
    "if x > 15:\n",
    "    result = \"x is greater than 15\"\n",
    "elif x == 10:\n",
    "    result = \"x is equal to 10\"\n",
    "else:\n",
    "    result = \"x is less than 15\"\n",
    "\n",
    "print(result)\n"
   ]
  },
  {
   "cell_type": "markdown",
   "id": "47c3e3c5",
   "metadata": {},
   "source": [
    "### 循环 🔁\n",
    "循环用于重复执行某段代码，直到满足特定条件为止。Python 中有两种主要的循环结构：`for` 循环和 `while` 循环。\n",
    "\n",
    "#### For 循环 🔄\n",
    "`for` 循环用于遍历序列（如列表、元组、字符串）中的每个元素。"
   ]
  },
  {
   "cell_type": "code",
   "execution_count": null,
   "id": "fe1b535b",
   "metadata": {},
   "outputs": [],
   "source": [
    "# For loop example\n",
    "fruits = [\"apple\", \"banana\", \"cherry\"]\n",
    "fruit_list ='I have: '\n",
    "\n",
    "for fruit in fruits:\n",
    "    fruit_list+=fruit+','\n",
    "\n",
    "print(fruit_list)\n"
   ]
  },
  {
   "cell_type": "markdown",
   "id": "09b9c08a",
   "metadata": {},
   "source": [
    "#### While 循环 🔄\n",
    "`while` 循环在条件为 `True` 时反复执行代码块。当条件变为 `False` 时，循环结束。"
   ]
  },
  {
   "cell_type": "code",
   "execution_count": null,
   "id": "b56129fd",
   "metadata": {},
   "outputs": [],
   "source": [
    "# While loop example\n",
    "count = 0\n",
    "numbers = []\n",
    "\n",
    "while count < 5:\n",
    "    numbers.append(count)\n",
    "    count += 1\n",
    "\n",
    "numbers\n"
   ]
  },
  {
   "cell_type": "markdown",
   "id": "8da1ff76",
   "metadata": {},
   "source": [
    "### 循环控制语句 🎛️\n",
    "Python 提供了几种控制循环的语句：`break`，`continue` 和 `pass`。\n",
    "\n",
    "- `break`：立即终止循环。\n",
    "- `continue`：跳过当前迭代并继续下一次迭代。\n",
    "- `pass`：什么都不做，只是占位。"
   ]
  },
  {
   "cell_type": "code",
   "execution_count": null,
   "id": "b73e7a12",
   "metadata": {},
   "outputs": [],
   "source": [
    "# Loop control statements example\n",
    "numbers = []\n",
    "\n",
    "for i in range(10):\n",
    "    if i == 3:\n",
    "        continue  # Skip the rest of the code inside the loop for this iteration\n",
    "    elif i == 8:\n",
    "        break  # Exit the loop entirely\n",
    "    numbers.append(i)\n",
    "\n",
    "numbers\n"
   ]
  },
  {
   "cell_type": "markdown",
   "id": "55f516a1",
   "metadata": {},
   "source": [
    "## 函数 📚\n",
    "\n",
    "函数是一段可重用的代码块，通过调用函数，你可以执行函数中定义的操作。使用 `def` 关键字定义函数。\n",
    "\n",
    "### 定义和调用函数 📖"
   ]
  },
  {
   "cell_type": "code",
   "execution_count": null,
   "id": "51afed9c",
   "metadata": {},
   "outputs": [],
   "source": [
    "# Function definition and calling example\n",
    "def greet(name):\n",
    "    return f\"Hello, {name}!\"\n",
    "\n",
    "greeting = greet(\"Alice\")\n",
    "greeting\n"
   ]
  },
  {
   "cell_type": "markdown",
   "id": "51a29917",
   "metadata": {},
   "source": [
    "### 函数参数与返回值 📥📤\n",
    "函数可以接受参数，并返回一个值或多个值。参数可以有默认值，也可以是可变数量的参数。"
   ]
  },
  {
   "cell_type": "code",
   "execution_count": null,
   "id": "eda9243e",
   "metadata": {},
   "outputs": [],
   "source": [
    "# Function with parameters and return value\n",
    "def add_numbers(a, b=5):\n",
    "    return a + b\n",
    "\n",
    "result_with_default = add_numbers(3)\n",
    "result_with_custom = add_numbers(3, 10)\n",
    "\n",
    "result_with_default, result_with_custom\n"
   ]
  },
  {
   "cell_type": "markdown",
   "id": "b45d7614",
   "metadata": {},
   "source": [
    "### 作用域 🌍\n",
    "\n",
    "Python 中的变量作用域决定了变量在哪里可以被访问。主要有两种作用域：局部作用域和全局作用域。\n",
    "\n",
    "- **局部变量**：在函数内部定义的变量，只能在函数内部访问。\n",
    "- **全局变量**：在函数外部定义的变量，可以在整个程序中访问。"
   ]
  },
  {
   "cell_type": "code",
   "execution_count": null,
   "id": "be07cf04",
   "metadata": {},
   "outputs": [],
   "source": [
    "# Scope example\n",
    "x = 10  # Global variable\n",
    "\n",
    "def change_x():\n",
    "    global x  # Declare that we are using the global variable\n",
    "    x = 5  # Modify the global variable\n",
    "\n",
    "change_x()\n",
    "x  # x is now changed to 5\n"
   ]
  },
  {
   "cell_type": "markdown",
   "id": "cb2d1a76-d55c-44dd-9bf6-44dd508c292f",
   "metadata": {},
   "source": [
    "## 练习 📝"
   ]
  },
  {
   "cell_type": "code",
   "execution_count": null,
   "id": "8b9b3e07-8037-482f-87cb-ebffad4fc037",
   "metadata": {},
   "outputs": [],
   "source": [
    "# 用if-elif-else写一个判断一个城市是属于哪个省的逻辑\n",
    "province={'辽':['沈阳','大连','鞍山'],'吉':['长春','吉林','四平'],'黑':['哈尔滨','齐齐哈尔','牡丹江']}\n",
    "city='鞍山市'\n",
    "result=''\n",
    "#your code below:\n",
    "\n",
    "# expect result: '辽宁省'\n",
    "print(result)"
   ]
  },
  {
   "cell_type": "code",
   "execution_count": null,
   "id": "62665dd7-cf64-4533-8eb7-18436fa57341",
   "metadata": {},
   "outputs": [],
   "source": [
    "# 练习2: 用for循环配合if判断剔除列表中所有小于10的数\n",
    "numbers=[1,2,12,-7,25,100,9.999]\n",
    "numbers_higher_than_10=[]\n",
    "# your code below:\n",
    "\n",
    "\n",
    "numbers_higher_than_10"
   ]
  },
  {
   "cell_type": "code",
   "execution_count": null,
   "id": "5246a749-24f2-4e73-9d4b-cdacbec4c508",
   "metadata": {},
   "outputs": [],
   "source": [
    "# 练习3: 用while循环将1加到100\n",
    "sum=0\n",
    "#your code below:\n",
    "\n",
    "#expect result: 5050\n",
    "sum"
   ]
  },
  {
   "cell_type": "code",
   "execution_count": null,
   "id": "229dce10-c0a8-4d38-9e9b-436ca41b77d8",
   "metadata": {},
   "outputs": [],
   "source": [
    "# 练习4: 将练习1包装成一个函数并尝试调用这个函数\n",
    "province={'辽':['沈阳','大连','鞍山'],'吉':['长春','吉林','四平'],'黑':['哈尔滨','齐齐哈尔','牡丹江']}\n",
    "city='长春市'\n",
    "result=''\n",
    "#your code below:\n",
    "\n",
    "# expect result: '吉林省'\n",
    "print(result)"
   ]
  },
  {
   "cell_type": "markdown",
   "id": "bfd985cf-fde1-423f-9fcc-04a9197032c2",
   "metadata": {},
   "source": [
    "# 你知道吗？ 🕵️‍♂️\n",
    "\n",
    "列表推导式（List Comprehensions）是Python中一种优雅且强大的工具，它允许你通过一个表达式和一个可选的循环来创建新的列表。以下是一些常见的使用场景："
   ]
  },
  {
   "cell_type": "code",
   "execution_count": null,
   "id": "d6d9313b-108b-4e53-8bfa-16616fa6c9f7",
   "metadata": {},
   "outputs": [],
   "source": [
    "# 基于现有列表创建新列表：\n",
    "# 将原有列表的元素平方\n",
    "original_list = [1, 2, 3, 4, 5]\n",
    "# before\n",
    "squares=[]\n",
    "for item in original_list:\n",
    "    squares.append(item**2)\n",
    "\n",
    "# after\n",
    "squares=[item**2 for item in original_list]\n",
    "\n",
    "squares"
   ]
  },
  {
   "cell_type": "code",
   "execution_count": null,
   "id": "54a13744-5411-4d40-8241-fbd2aa185847",
   "metadata": {},
   "outputs": [],
   "source": [
    "# 过滤元素\n",
    "# 保留列表中的偶数\n",
    "original_list = [1, 2, 3, 4, 5]\n",
    "# before\n",
    "even_numbers=[]\n",
    "for item in original_list:\n",
    "    if item % 2==0:\n",
    "        even_numbers.append(item)\n",
    "#after\n",
    "even_numbers=[item for item in original_list if item%2==0]\n",
    "\n",
    "even_numbers\n",
    "        "
   ]
  },
  {
   "cell_type": "code",
   "execution_count": null,
   "id": "bd8bda4d-bbd1-4c5b-9cf7-5f93033addbb",
   "metadata": {},
   "outputs": [],
   "source": [
    "# 嵌套循环\n",
    "# 将矩阵转化为一维列表\n",
    "matrix=[[1,2,3],[4,5,6],[7,8,9]]\n",
    "# before\n",
    "list=[]\n",
    "for row in matrix:\n",
    "    for item in row:\n",
    "        list.append(item)\n",
    "# after\n",
    "list=[item for row in matrix for item in row ]\n",
    "\n",
    "list"
   ]
  }
 ],
 "metadata": {
  "kernelspec": {
   "display_name": "Python 3 (ipykernel)",
   "language": "python",
   "name": "python3"
  },
  "language_info": {
   "codemirror_mode": {
    "name": "ipython",
    "version": 3
   },
   "file_extension": ".py",
   "mimetype": "text/x-python",
   "name": "python",
   "nbconvert_exporter": "python",
   "pygments_lexer": "ipython3",
   "version": "3.11.9"
  }
 },
 "nbformat": 4,
 "nbformat_minor": 5
}
