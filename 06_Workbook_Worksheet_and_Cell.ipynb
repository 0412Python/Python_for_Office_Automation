{
 "cells": [
  {
   "cell_type": "markdown",
   "id": "915e4272",
   "metadata": {},
   "source": [
    "# 类的概念\n",
    "\n",
    "在面向对象编程（OOP）中，类是一个重要的概念。它是对现实世界中某类事物的抽象，并定义了事物的属性（特征）和方法（行为）。\n",
    "\n",
    "## 什么是类\n",
    "\n",
    "**类**是创建对象的模板，定义了对象的属性和方法。\n",
    "\n",
    "## 什么是对象\n",
    "\n",
    "**对象**是类的实例化，是根据类的定义创建的具体实体。\n",
    "\n",
    "接下来，我们将通过一个矩形类的例子来更好地理解这些概念。\n"
   ]
  },
  {
   "cell_type": "markdown",
   "id": "08d68562",
   "metadata": {},
   "source": [
    "## 矩形类的示例\n",
    "\n",
    "我们将定义一个矩形类 `Rectangle`，它有两个属性：长（length）和宽（width），以及两个方法：计算周长和计算面积。\n"
   ]
  },
  {
   "cell_type": "code",
   "execution_count": null,
   "id": "26d39cd5",
   "metadata": {},
   "outputs": [],
   "source": [
    "class Rectangle:\n",
    "    def __init__(self, length, width):\n",
    "        self.length = length  # 这是一个属性\n",
    "        self.width = width    # 这是另一个属性\n",
    "    \n",
    "    def calculate_perimeter(self):  # 这是一个方法，用于计算周长\n",
    "        return 2 * (self.length + self.width)\n",
    "    \n",
    "    def calculate_area(self):  # 这是另一个方法，用于计算面积\n",
    "        return self.length * self.width\n",
    "\n",
    "# 创建一个 Rectangle 对象\n",
    "my_rectangle = Rectangle(5, 3)\n",
    "\n",
    "# 访问属性\n",
    "print(\"Length:\", my_rectangle.length)  # 输出: Length: 5\n",
    "print(\"Width:\", my_rectangle.width)    # 输出: Width: 3\n",
    "\n",
    "# 调用方法\n",
    "print(\"Perimeter:\", my_rectangle.calculate_perimeter())  # 输出: Perimeter: 16\n",
    "print(\"Area:\", my_rectangle.calculate_area())  # 输出: Area: 15\n"
   ]
  },
  {
   "cell_type": "markdown",
   "id": "4ccc5654-43d1-473b-93c2-f63dc240ef95",
   "metadata": {},
   "source": [
    "## 练习"
   ]
  },
  {
   "cell_type": "code",
   "execution_count": null,
   "id": "7ca1f04f-395d-4644-9684-14efa3baa29f",
   "metadata": {},
   "outputs": [],
   "source": [
    "# 创建一个类，要求至少包含两个属性和两个方法，并尝试访问属性和调用方法"
   ]
  },
  {
   "cell_type": "markdown",
   "id": "b69c4843",
   "metadata": {},
   "source": [
    "## Openpyxl库中的类\n",
    "\n",
    "### Workbook\n",
    "\n",
    "`Workbook` 代表整个 Excel 文件。在 `openpyxl` 中，一个 `Workbook` 对象可以包含多个工作表。以下是 `Workbook` 的常用属性和方法。\n",
    "\n",
    "#### 常用属性\n",
    "\n",
    "- **`active`**：返回当前活动的工作表（`Worksheet` 对象）。\n",
    "- **`sheetnames`**：返回工作簿中所有工作表的名称列表。\n",
    "\n",
    "#### 常用方法\n",
    "\n",
    "- **`create_sheet()`**：创建一个新的工作表并返回该工作表对象。\n",
    "- **`remove()`**：删除指定的工作表。\n",
    "- **`save()`**：将工作簿保存到文件中。"
   ]
  },
  {
   "cell_type": "code",
   "execution_count": null,
   "id": "9ffcbbb06069ee46",
   "metadata": {},
   "outputs": [],
   "source": [
    "import openpyxl\n",
    "\n",
    "# 创建一个新的工作簿\n",
    "workbook = openpyxl.Workbook()\n",
    "\n",
    "# 获取当前活动的工作表\n",
    "active_sheet = workbook.active\n",
    "\n",
    "# 创建一个新工作表\n",
    "new_sheet = workbook.create_sheet(title=\"NewSheet\")\n",
    "\n",
    "# 打印所有工作表的名称\n",
    "print(workbook.sheetnames)\n",
    "\n",
    "# 删除新创建的工作表\n",
    "workbook.remove(new_sheet)\n",
    "\n",
    "# 保存工作簿\n",
    "workbook.save(\"example_workbook.xlsx\")\n"
   ]
  },
  {
   "cell_type": "markdown",
   "id": "95df8436f5254cdc",
   "metadata": {},
   "source": [
    "### Worksheet\n",
    "\n",
    "`Worksheet` 代表工作簿中的一张工作表。以下是 `Worksheet` 的常用属性和方法。\n",
    "\n",
    "#### 常用属性\n",
    "\n",
    "- **`title`**：获取或设置工作表的名称。\n",
    "- **`max_row` 和 `max_column`**：获取工作表中已使用的最大行数和列数。\n",
    "\n",
    "#### 常用方法\n",
    "\n",
    "- **`append()`**：在工作表的末尾添加一行数据。\n",
    "- **`cell()`**：获取或设置指定位置的单元格。\n",
    "- **`iter_rows()` 和 `iter_cols()`**：迭代工作表中的行或列。"
   ]
  },
  {
   "cell_type": "code",
   "execution_count": null,
   "id": "916338f5d1e949a0",
   "metadata": {},
   "outputs": [],
   "source": [
    "# 获取当前工作表\n",
    "sheet = workbook.active\n",
    "\n",
    "# 设置工作表的名称\n",
    "sheet.title = \"MySheet\"\n",
    "\n",
    "# 在工作表的末尾添加一行数据\n",
    "sheet.append([1, 2, 3])\n",
    "\n",
    "# 获取指定位置的单元格\n",
    "cell = sheet.cell(row=1, column=1)\n",
    "\n",
    "# 打印最大行数和列数\n",
    "print(sheet.max_row, sheet.max_column)\n",
    "\n",
    "# 迭代所有行\n",
    "for row in sheet.iter_rows(values_only=True):\n",
    "    print(row)"
   ]
  },
  {
   "cell_type": "markdown",
   "id": "dbdc61de04f04d31",
   "metadata": {},
   "source": [
    "### Cell 详细介绍\n",
    "\n",
    "`Cell` 代表工作表中的一个单元格。以下是 `Cell` 的常用属性和方法。\n",
    "\n",
    "#### 常用属性\n",
    "\n",
    "- **`value`**：获取或设置单元格中的值。\n",
    "- **`row` 和 `column`**：获取单元格所在的行和列编号。\n",
    "\n",
    "#### 常用方法\n",
    "\n",
    "- **`coordinate`**：获取单元格的坐标（如 \"A1\"）。\n",
    "- **`fill`、`font`、`border`**：设置单元格的样式属性（如背景颜色、字体、边框等）。"
   ]
  },
  {
   "cell_type": "code",
   "execution_count": null,
   "id": "65cc690b704942da",
   "metadata": {},
   "outputs": [],
   "source": [
    "# 获取指定的单元格\n",
    "cell = sheet['A1']\n",
    "\n",
    "# 设置单元格的值\n",
    "cell.value = \"Hello, World!\"\n",
    "\n",
    "# 打印单元格的坐标\n",
    "print(cell.coordinate)\n",
    "\n",
    "# 打印单元格的行和列编号\n",
    "print(cell.row, cell.column)\n"
   ]
  },
  {
   "cell_type": "markdown",
   "id": "f98f11843e4eb597",
   "metadata": {},
   "source": []
  }
 ],
 "metadata": {
  "kernelspec": {
   "display_name": "Python 3 (ipykernel)",
   "language": "python",
   "name": "python3"
  },
  "language_info": {
   "codemirror_mode": {
    "name": "ipython",
    "version": 3
   },
   "file_extension": ".py",
   "mimetype": "text/x-python",
   "name": "python",
   "nbconvert_exporter": "python",
   "pygments_lexer": "ipython3",
   "version": "3.12.4"
  }
 },
 "nbformat": 4,
 "nbformat_minor": 5
}
