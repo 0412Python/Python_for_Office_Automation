{
 "cells": [
  {
   "cell_type": "markdown",
   "id": "915e4272",
   "metadata": {},
   "source": [
    "# 类的概念\n",
    "\n",
    "在面向对象编程（OOP）中，类是一个重要的概念。它是对现实世界中某类事物的抽象，并定义了事物的属性（特征）和方法（行为）。\n",
    "\n",
    "## 什么是类\n",
    "\n",
    "**类**是创建对象的模板，定义了对象的属性和方法。\n",
    "\n",
    "## 什么是对象\n",
    "\n",
    "**对象**是类的实例化，是根据类的定义创建的具体实体。\n",
    "\n",
    "接下来，我们将通过一个矩形类的例子来更好地理解这些概念。\n"
   ]
  },
  {
   "cell_type": "markdown",
   "id": "08d68562",
   "metadata": {},
   "source": [
    "## 矩形类的示例\n",
    "\n",
    "我们将定义一个矩形类 `Rectangle`，它有两个属性：长（length）和宽（width），以及两个方法：计算周长和计算面积。\n"
   ]
  },
  {
   "cell_type": "code",
   "execution_count": null,
   "id": "26d39cd5",
   "metadata": {},
   "outputs": [],
   "source": [
    "class Rectangle:\n",
    "    def __init__(self, length, width):\n",
    "        self.length = length  # This is an attribute\n",
    "        self.width = width  # This is another attribute\n",
    "\n",
    "    def calculate_perimeter(self):  # This is a method for calculating the perimeter\n",
    "        return 2 * (self.length + self.width)\n",
    "\n",
    "    def calculate_area(self):  # This is another method for calculating the area\n",
    "        return self.length * self.width\n",
    "\n",
    "\n",
    "# Create a Rectangle object\n",
    "my_rectangle = Rectangle(5, 3)\n",
    "\n",
    "# Access attributes\n",
    "print(\"Length:\", my_rectangle.length)  # Output: Length: 5\n",
    "print(\"Width:\", my_rectangle.width)  # Output: Width: 3\n",
    "\n",
    "# Call methods\n",
    "print(\"Perimeter:\", my_rectangle.calculate_perimeter())  # Output: Perimeter: 16\n",
    "print(\"Area:\", my_rectangle.calculate_area())  # Output: Area: 15\n"
   ]
  },
  {
   "cell_type": "markdown",
   "id": "c7a2efbb7b361ef4",
   "metadata": {},
   "source": [
    "## 练习1\n",
    "\n",
    "创建两个矩形对象，并输出他们的面积的和。"
   ]
  },
  {
   "cell_type": "code",
   "execution_count": null,
   "id": "6c750b5a0a9b842f",
   "metadata": {},
   "outputs": [],
   "source": [
    "# Create two Rectangle objects\n",
    "\n",
    "# print the sum area of these two objects\n"
   ]
  },
  {
   "cell_type": "markdown",
   "id": "4ccc5654-43d1-473b-93c2-f63dc240ef95",
   "metadata": {},
   "source": [
    "## 练习2\n",
    "\n",
    "创建一个类，要求至少包含两个属性和两个方法，并尝试访问属性和调用方法。"
   ]
  },
  {
   "cell_type": "code",
   "execution_count": null,
   "id": "7ca1f04f-395d-4644-9684-14efa3baa29f",
   "metadata": {},
   "outputs": [],
   "source": [
    "# Create a class that includes at least two attributes and two methods, \n",
    "\n",
    "# Try accessing the attributes and calling the methods.\n"
   ]
  },
  {
   "cell_type": "markdown",
   "id": "573ffe2c51bec784",
   "metadata": {},
   "source": [
    "# Openpyxl库中的类\n",
    "\n",
    "## Workbook\n",
    "\n",
    "`Workbook` 代表整个 Excel 文件。在 `openpyxl` 中，一个 `Workbook` 对象可以包含多个工作表。以下是 `Workbook` 的常用属性和方法。\n",
    "\n",
    "### 常用属性\n",
    "\n",
    "- **`active`**：返回当前活动的工作表（`Worksheet` 对象）。\n",
    "- **`sheetnames`**：返回工作簿中所有工作表的名称列表。\n",
    "\n",
    "### 常用方法\n",
    "\n",
    "- **`create_sheet()`**：创建一个新的工作表并返回该工作表对象。\n",
    "- **`remove()`**：删除指定的工作表。\n",
    "- **`save()`**：将工作簿保存到文件中。"
   ]
  },
  {
   "cell_type": "code",
   "execution_count": null,
   "id": "9ffcbbb06069ee46",
   "metadata": {},
   "outputs": [],
   "source": [
    "import openpyxl\n",
    "\n",
    "# Create a new workbook\n",
    "workbook = openpyxl.Workbook()\n",
    "\n",
    "# Get the active worksheet\n",
    "active_sheet = workbook.active\n",
    "\n",
    "# Create a new worksheet\n",
    "new_sheet = workbook.create_sheet(title=\"NewSheet\")\n",
    "\n",
    "# Print all sheet names\n",
    "print(workbook.sheetnames)\n",
    "\n",
    "# Remove the newly created worksheet\n",
    "workbook.remove(new_sheet)\n",
    "\n",
    "# Save the workbook\n",
    "workbook.save(\"example_workbook.xlsx\")\n"
   ]
  },
  {
   "cell_type": "markdown",
   "id": "95df8436f5254cdc",
   "metadata": {},
   "source": [
    "## Worksheet\n",
    "\n",
    "`Worksheet` 代表工作簿中的一张工作表。以下是 `Worksheet` 的常用属性和方法。\n",
    "\n",
    "### 常用属性\n",
    "\n",
    "- **`title`**：获取或设置工作表的名称。\n",
    "- **`max_row` 和 `max_column`**：获取工作表中已使用的最大行数和列数。\n",
    "\n",
    "### 常用方法\n",
    "\n",
    "- **`append()`**：在工作表的末尾添加一行数据。\n",
    "- **`cell()`**：获取或设置指定位置的单元格。\n",
    "- **`iter_rows()` 和 `iter_cols()`**：迭代工作表中的行或列。"
   ]
  },
  {
   "cell_type": "code",
   "execution_count": null,
   "id": "916338f5d1e949a0",
   "metadata": {},
   "outputs": [],
   "source": [
    "# Get the active worksheet\n",
    "sheet = workbook.active\n",
    "sheet = workbook[\"Sheet\"]\n",
    "\n",
    "# Set the worksheet title\n",
    "sheet.title = \"MySheet\"\n",
    "\n",
    "# Append a row of data at the end of the worksheet\n",
    "sheet.append([1, 2, 3])\n",
    "\n",
    "# Get the cell at a specific location\n",
    "cell = sheet.cell(row=1, column=1)\n",
    "\n",
    "# Print the max rows and columns\n",
    "print(sheet.max_row, sheet.max_column)\n",
    "\n",
    "# Iterate through all rows\n",
    "for row in sheet.iter_rows():\n",
    "    print(row)\n",
    "    \n",
    "# Iterate through all columns\n",
    "for column in sheet.iter_cols():\n",
    "    print(column)"
   ]
  },
  {
   "cell_type": "markdown",
   "id": "dbdc61de04f04d31",
   "metadata": {},
   "source": [
    "## Cell 详细介绍\n",
    "\n",
    "`Cell` 代表工作表中的一个单元格。以下是 `Cell` 的常用属性和方法。\n",
    "\n",
    "### 常用属性\n",
    "\n",
    "- **`value`**：获取或设置单元格中的值。\n",
    "- **`row` 和 `column`**：获取单元格所在的行和列编号。\n",
    "\n",
    "### 常用方法\n",
    "\n",
    "- **`coordinate`**：获取单元格的坐标（如 \"A1\"）。\n",
    "- **`fill`、`font`、`border`**：设置单元格的样式属性（如背景颜色、字体、边框等）。"
   ]
  },
  {
   "cell_type": "code",
   "execution_count": null,
   "id": "65cc690b704942da",
   "metadata": {},
   "outputs": [],
   "source": [
    "# Get the specified cell\n",
    "cell = sheet['A1']\n",
    "cell = sheet.cell(row=1, column=1)\n",
    "\n",
    "\n",
    "# Set the cell value\n",
    "cell.value = \"Hello, World!\"\n",
    "\n",
    "# Print the cell coordinate\n",
    "print(cell.coordinate)\n",
    "\n",
    "# Print the cell's row and column numbers\n",
    "print(cell.row, cell.column)"
   ]
  },
  {
   "cell_type": "markdown",
   "id": "f98f11843e4eb597",
   "metadata": {},
   "source": [
    "### 按行或列遍历单元格\n",
    "\n",
    "如果你需要对一个工作表的某些区域进行按行或列遍历，你可以按照下面的方法来做"
   ]
  },
  {
   "cell_type": "code",
   "execution_count": null,
   "id": "9a3a11fa33b86cef",
   "metadata": {},
   "outputs": [],
   "source": [
    "for row in sheet.iter_rows(min_row=2,  max_row=5, min_col=1, max_col=3):\n",
    "    for cell in row:\n",
    "        print(cell.value)\n",
    "        print('\\t')\n",
    "    print('\\n')"
   ]
  }
 ],
 "metadata": {
  "kernelspec": {
   "display_name": "Python 3 (ipykernel)",
   "language": "python",
   "name": "python3"
  },
  "language_info": {
   "codemirror_mode": {
    "name": "ipython",
    "version": 3
   },
   "file_extension": ".py",
   "mimetype": "text/x-python",
   "name": "python",
   "nbconvert_exporter": "python",
   "pygments_lexer": "ipython3",
   "version": "3.11.9"
  }
 },
 "nbformat": 4,
 "nbformat_minor": 5
}
