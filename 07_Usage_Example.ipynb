{
 "cells": [
  {
   "metadata": {},
   "cell_type": "markdown",
   "source": [
    "# openpyxl 常见使用方法演示\n",
    "\n",
    "在本章中，我们将演示一些使用 `openpyxl` 库的常见操作。这些操作包括遍历路径下的所有工作簿、保留特定的行、保留特定列值的行、合并工作表数据、插入新列或行、查找并替换特定值、应用条件格式以及从多个工作表中提取汇总数据。\n"
   ],
   "id": "36c9c780e6ce3cc4"
  },
  {
   "metadata": {},
   "cell_type": "markdown",
   "source": [
    "## 1. 遍历路径下的所有工作簿\n",
    "\n",
    "此示例展示如何遍历指定路径下的所有 Excel 文件，打开每个工作簿并统计工作簿中的工作表数量。"
   ],
   "id": "d3980d2a2cb857e9"
  },
  {
   "metadata": {},
   "cell_type": "code",
   "outputs": [],
   "execution_count": null,
   "source": [
    "import openpyxl\n",
    "import os\n",
    "\n",
    "# 指定路径\n",
    "directory = 'path_to_directory'\n",
    "\n",
    "# 遍历路径下的所有工作簿\n",
    "for filename in os.listdir(directory):\n",
    "    if filename.endswith('.xlsx'):\n",
    "        filepath = os.path.join(directory, filename)\n",
    "        workbook = openpyxl.load_workbook(filepath)\n",
    "        print(f'{filename} has {len(workbook.sheetnames)} sheets.')"
   ],
   "id": "4c3a7383d20c5eb8"
  },
  {
   "metadata": {},
   "cell_type": "markdown",
   "source": [
    "## 2. 保留工作表中特定的几行\n",
    "\n",
    "此示例展示如何根据条件保留工作表中的某些行，例如保留第 1 行到第 10 行的数据。"
   ],
   "id": "df0b2ad7769947df"
  },
  {
   "metadata": {},
   "cell_type": "code",
   "outputs": [],
   "execution_count": null,
   "source": [
    "# 打开工作簿和工作表\n",
    "workbook = openpyxl.load_workbook('example.xlsx')\n",
    "sheet = workbook.active\n",
    "\n",
    "# 保留前 10 行\n",
    "for row in sheet.iter_rows(min_row=11, max_row=sheet.max_row):\n",
    "    for cell in row:\n",
    "        sheet[cell.coordinate] = None\n",
    "\n",
    "# 保存修改后的工作簿\n",
    "workbook.save('example_filtered_rows.xlsx')"
   ],
   "id": "4a1d90059d6223f2"
  },
  {
   "metadata": {},
   "cell_type": "markdown",
   "source": [
    "## 3. 保留工作表中某一列值为特定值的行\n",
    "\n",
    "此示例展示如何根据某一列的值是否满足条件来保留工作表中的某些行。"
   ],
   "id": "6f5e2192f11f83ed"
  },
  {
   "metadata": {},
   "cell_type": "code",
   "outputs": [],
   "execution_count": null,
   "source": [
    "# 打开工作簿和工作表\n",
    "workbook = openpyxl.load_workbook('example.xlsx')\n",
    "sheet = workbook.active\n",
    "\n",
    "# 条件：保留第 2 列中值为 'SpecificValue' 的行\n",
    "for row in sheet.iter_rows(min_row=2, max_row=sheet.max_row):\n",
    "    if row[1].value != 'SpecificValue':\n",
    "        for cell in row:\n",
    "            sheet[cell.coordinate] = None\n",
    "\n",
    "# 保存修改后的工作簿\n",
    "workbook.save('example_filtered_column_value.xlsx')"
   ],
   "id": "f3ba5626535639b7"
  },
  {
   "metadata": {},
   "cell_type": "markdown",
   "source": [
    "## 4. 合并多个工作表中的数据\n",
    "\n",
    "此示例展示如何将多个工作表中的数据合并到一个新的工作表中。\n"
   ],
   "id": "186a2ae8252cb397"
  },
  {
   "metadata": {},
   "cell_type": "code",
   "outputs": [],
   "execution_count": null,
   "source": [
    "# 创建一个新的工作簿用于合并数据\n",
    "merged_workbook = openpyxl.Workbook()\n",
    "merged_sheet = merged_workbook.active\n",
    "merged_sheet.title = \"MergedData\"\n",
    "\n",
    "# 待合并的工作表\n",
    "workbook_names = ['example1.xlsx', 'example2.xlsx']\n",
    "\n",
    "for name in workbook_names:\n",
    "    workbook = openpyxl.load_workbook(name)\n",
    "    sheet = workbook.active\n",
    "    for row in sheet.iter_rows(min_row=2, values_only=True):\n",
    "        merged_sheet.append(row)\n",
    "\n",
    "# 保存合并后的工作簿\n",
    "merged_workbook.save('merged_data.xlsx')"
   ],
   "id": "434839067e215478"
  },
  {
   "metadata": {},
   "cell_type": "markdown",
   "source": [
    "## 5. 在工作表中插入新列或新行\n",
    "\n",
    "此示例展示如何在现有工作表中插入新的列或行，并调整已有数据的位置。\n"
   ],
   "id": "a8ebfb995ff257c1"
  },
  {
   "metadata": {},
   "cell_type": "code",
   "outputs": [],
   "execution_count": null,
   "source": [
    "# 打开工作簿和工作表\n",
    "workbook = openpyxl.load_workbook('example.xlsx')\n",
    "sheet = workbook.active\n",
    "\n",
    "# 在第 2 行插入一行\n",
    "sheet.insert_rows(2)\n",
    "\n",
    "# 在第 3 列插入一列\n",
    "sheet.insert_cols(3)\n",
    "\n",
    "# 保存修改后的工作簿\n",
    "workbook.save('example_with_inserts.xlsx')"
   ],
   "id": "ea1debf39d575aad"
  },
  {
   "metadata": {},
   "cell_type": "markdown",
   "source": [
    "## 6. 查找并替换单元格中的特定值\n",
    "\n",
    "此示例展示如何遍历工作表中的所有单元格，查找特定值并将其替换为新的值。\n"
   ],
   "id": "afa83133639269dc"
  },
  {
   "metadata": {},
   "cell_type": "code",
   "outputs": [],
   "execution_count": null,
   "source": [
    "# 打开工作簿和工作表\n",
    "workbook = openpyxl.load_workbook('example.xlsx')\n",
    "sheet = workbook.active\n",
    "\n",
    "# 查找并替换特定值\n",
    "for row in sheet.iter_rows():\n",
    "    for cell in row:\n",
    "        if cell.value == 'OldValue':\n",
    "            cell.value = 'NewValue'\n",
    "\n",
    "# 保存修改后的工作簿\n",
    "workbook.save('example_replaced_values.xlsx')"
   ],
   "id": "206d9ff9c18cc962"
  },
  {
   "metadata": {},
   "cell_type": "markdown",
   "source": [
    "## 7. 为工作表中的数据应用条件格式\n",
    "\n",
    "此示例展示如何根据特定条件为工作表中的单元格设置格式，例如将负值的单元格背景颜色设置为红色。\n"
   ],
   "id": "c2cf5453e2db34b1"
  },
  {
   "metadata": {},
   "cell_type": "code",
   "outputs": [],
   "execution_count": null,
   "source": [
    "from openpyxl.formatting.rule import ColorScaleRule\n",
    "from openpyxl.styles import Font, PatternFill\n",
    "\n",
    "# 打开工作簿和工作表\n",
    "workbook = openpyxl.load_workbook('example.xlsx')\n",
    "sheet = workbook.active\n",
    "\n",
    "# 应用条件格式\n",
    "red_text = Font(color=\"9C0006\")\n",
    "red_fill = PatternFill(start_color=\"FFC7CE\", end_color=\"FFC7CE\")\n",
    "\n",
    "for row in sheet.iter_rows(min_row=2, max_row=sheet.max_row, min_col=2, max_col=2):\n",
    "    for cell in row:\n",
    "        if cell.value and cell.value < 0:\n",
    "            cell.font = red_text\n",
    "            cell.fill = red_fill\n",
    "\n",
    "# 保存修改后的工作簿\n",
    "workbook.save('example_conditional_formatting.xlsx')\n"
   ],
   "id": "f57b7359785cba9a"
  },
  {
   "metadata": {},
   "cell_type": "markdown",
   "source": [
    "## 8. 从多个工作表中提取汇总数据\n",
    "\n",
    "此示例展示如何从多个工作表中提取特定列或行的数据，并在一个新的工作表中生成汇总数据或统计信息。"
   ],
   "id": "69d8d42afc1f2414"
  },
  {
   "metadata": {},
   "cell_type": "code",
   "outputs": [],
   "execution_count": null,
   "source": [
    "# 创建一个新的工作簿用于汇总数据\n",
    "summary_workbook = openpyxl.Workbook()\n",
    "summary_sheet = summary_workbook.active\n",
    "summary_sheet.title = \"Summary\"\n",
    "\n",
    "# 从多个工作表中提取汇总数据\n",
    "workbook_names = ['example1.xlsx', 'example2.xlsx']\n",
    "\n",
    "for name in workbook_names:\n",
    "    workbook = openpyxl.load_workbook(name)\n",
    "    sheet = workbook.active\n",
    "    for row in sheet.iter_rows(min_row=2, max_row=sheet.max_row, min_col=2, max_col=2, values_only=True):\n",
    "        summary_sheet.append(row)\n",
    "\n",
    "# 保存汇总后的工作簿\n",
    "summary_workbook.save('summary_data.xlsx')"
   ],
   "id": "f7ab77572d29652d"
  }
 ],
 "metadata": {
  "kernelspec": {
   "display_name": "Python 3",
   "language": "python",
   "name": "python3"
  },
  "language_info": {
   "codemirror_mode": {
    "name": "ipython",
    "version": 2
   },
   "file_extension": ".py",
   "mimetype": "text/x-python",
   "name": "python",
   "nbconvert_exporter": "python",
   "pygments_lexer": "ipython2",
   "version": "2.7.6"
  }
 },
 "nbformat": 4,
 "nbformat_minor": 5
}
