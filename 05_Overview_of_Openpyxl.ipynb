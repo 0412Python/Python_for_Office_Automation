{
 "cells": [
  {
   "cell_type": "markdown",
   "id": "be5d9da5",
   "metadata": {},
   "source": [
    "# 使用 openpyxl 操作 Excel 文件\n",
    "\n",
    "在本章中，我们将学习如何使用 `openpyxl` 库来操作 Excel 文件。\n",
    "在开始介绍之前我们来了解一下什么是软件包\n",
    "\n",
    "## 什么是软件包\n",
    "\n",
    "**软件包**是指一组相关模块的集合，这些模块可以包含函数、类和变量等，用于实现特定的功能。软件包可以使得我们不必从头编写所有代码，而是可以直接使用他人开发好的工具和库。\n",
    "\n",
    "## 常见的软件包\n",
    "\n",
    "Python 自带了许多标准库中的软件包，如：\n",
    "- `math`：提供数学运算相关的函数\n",
    "- `datetime`：处理日期和时间\n",
    "- `os`：与操作系统进行交互\n",
    "\n",
    "除此之外，Python 社区还提供了大量的第三方软件包，如：\n",
    "- `numpy`：用于数值计算\n",
    "- `pandas`：用于数据分析\n",
    "- `matplotlib`：用于数据可视化\n",
    "\n",
    "## 软件包的安装\n",
    "\n",
    "通常，我们可以使用 `pip` 工具来安装软件包。`pip` 是 Python 的包管理器，允许我们从 Python Package Index (PyPI) 下载并安装软件包。以下是一些常见的 `pip` 命令：\n",
    "- 安装软件包：`pip install package_name`\n",
    "- 升级软件包：`pip install --upgrade package_name`\n",
    "- 卸载软件包：`pip uninstall package_name`\n",
    "\n",
    "接下来，我们将使用 `pip` 安装 `openpyxl` 软件包，并学习如何使用它来操作 Excel 文件。\n",
    "\n",
    "## 安装 openpyxl 库"
   ]
  },
  {
   "cell_type": "code",
   "id": "d006d911",
   "metadata": {},
   "source": [
    "# 使用 pip 安装 openpyxl 库\n",
    "!pip install openpyxl\n"
   ],
   "outputs": [],
   "execution_count": null
  },
  {
   "cell_type": "markdown",
   "id": "4bd806cc",
   "metadata": {},
   "source": [
    "## 创建一个简单的 Excel 文件并写入数据\n",
    "\n",
    "在安装好 `openpyxl` 库后，我们可以开始创建一个新的 Excel 文件，并在其中写入一些数据。以下是一个简单的示例：\n"
   ]
  },
  {
   "cell_type": "code",
   "execution_count": null,
   "id": "ee3d6874",
   "metadata": {},
   "outputs": [],
   "source": [
    "import openpyxl\n",
    "\n",
    "# 创建一个新的工作簿\n",
    "workbook = openpyxl.Workbook()\n",
    "\n",
    "# 获取默认的工作表\n",
    "sheet = workbook.active\n",
    "sheet.title = \"ExampleSheet\"\n",
    "\n",
    "# 向工作表中写入数据\n",
    "sheet['A1'] = \"Hello\"\n",
    "sheet['B1'] = \"World\"\n",
    "sheet['A2'] = 123\n",
    "sheet['B2'] = 456\n",
    "\n",
    "# 保存工作簿\n",
    "workbook.save(\"example.xlsx\")\n"
   ]
  },
  {
   "cell_type": "markdown",
   "id": "6bc97e54",
   "metadata": {},
   "source": [
    "## 总结\n",
    "\n",
    "通过以上步骤，您已经学习了如何使用 `openpyxl` 库创建一个新的 Excel 文件，并在其中写入数据。\n",
    "\n",
    "## 练习\n",
    "\n",
    "试着自己创建一个工作簿，并将当前工作表其重命名为'Numbers'，并将1到10写入‘A1’ 到 ‘A10’ 单元格，并保存。\n"
   ]
  },
  {
   "metadata": {},
   "cell_type": "code",
   "outputs": [],
   "execution_count": null,
   "source": "import openpyxl",
   "id": "2f96a63e36256693"
  }
 ],
 "metadata": {
  "kernelspec": {
   "name": "python3",
   "language": "python",
   "display_name": "Python 3 (ipykernel)"
  }
 },
 "nbformat": 4,
 "nbformat_minor": 5
}
