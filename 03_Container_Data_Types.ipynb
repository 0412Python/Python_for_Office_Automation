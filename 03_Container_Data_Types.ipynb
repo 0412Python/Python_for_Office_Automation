{
 "cells": [
  {
   "cell_type": "markdown",
   "id": "9b8c4b1b",
   "metadata": {},
   "source": [
    "# 容器类型 📦\n",
    "在 Python 中，**容器类型**用于存储和组织多个元素。主要的容器类型包括列表（List）、元组（Tuple）、字典（Dictionary）和集合（Set）。"
   ]
  },
  {
   "cell_type": "markdown",
   "id": "cc58f91a",
   "metadata": {},
   "source": [
    "## 列表（List） 📋\n",
    "**列表**是一种有序的可变容器类型，使用方括号 `[]` 表示。你可以在列表中存储不同类型的元素。\n",
    "\n",
    "### 创建和初始化列表 📝\n",
    "你可以通过以下方式创建列表：\n"
   ]
  },
  {
   "cell_type": "code",
   "execution_count": null,
   "id": "afc7a9a6fef5e977",
   "metadata": {},
   "outputs": [],
   "source": [
    "# List creation and operations\n",
    "my_list = [1, 2, 3, 'a', 'b', 'c']\n",
    "my_list"
   ]
  },
  {
   "cell_type": "markdown",
   "id": "12f28730-08c3-4690-a993-3caee31e0928",
   "metadata": {},
   "source": [
    "### 列表的索引和切片 🔍\n",
    "你可以通过索引访问列表中的元素，索引从 0 开始。切片可以用于获取列表的子集。\n",
    "\n",
    "![list.jpg](https://github.com/0412Python/Python_for_Office_Automation/blob/main/Resource/list.jpg?raw=ture)"
   ]
  },
  {
   "cell_type": "code",
   "execution_count": null,
   "id": "6e1a0d2458c1b05a",
   "metadata": {},
   "outputs": [],
   "source": [
    "# Accessing elements by index\n",
    "first_element = my_list[0]\n",
    "second_element = my_list[1]\n",
    "\n",
    "last_element = my_list[-1]\n",
    "second_last_element = my_list[-2]\n",
    "# Slicing the list\n",
    "sub_list = my_list[1:4]\n",
    "\n",
    "# Modifying the list\n",
    "my_list[2] = 'z'  # Modify an element\n",
    "first_element, second_element, last_element, second_last_element, sub_list, my_list"
   ]
  },
  {
   "cell_type": "markdown",
   "id": "fd483ce8d15be31e",
   "metadata": {},
   "source": [
    "### 列表的常用方法 🛠️\n",
    "以下是一些常用的列表操作方法：\n",
    "\n",
    "- `append()`：在列表末尾添加一个元素。\n",
    "- `insert()`：在指定位置插入一个元素。\n",
    "- `remove()`：移除列表中的第一个匹配项。\n",
    "- `pop()`：移除指定位置的元素并返回它。\n",
    "- `sort()`：对列表中的元素进行排序。\n",
    "- `reverse()`：反转列表中的元素顺序。"
   ]
  },
  {
   "cell_type": "code",
   "execution_count": null,
   "id": "01ad9c9b",
   "metadata": {},
   "outputs": [],
   "source": [
    "\n",
    "# Examples of common list methods\n",
    "my_list = [5, 3, 8, 6, 7]\n",
    "\n",
    "# Append an element\n",
    "my_list.append(4)\n",
    "\n",
    "# Insert an element at a specific position\n",
    "my_list.insert(2, 10)\n",
    "\n",
    "# Remove the first occurrence of an element\n",
    "my_list.remove(8)\n",
    "\n",
    "# Pop an element by index\n",
    "popped_element = my_list.pop(3)\n",
    "\n",
    "# Sort the list\n",
    "my_list.sort()\n",
    "\n",
    "# Reverse the list\n",
    "my_list.reverse()\n",
    "\n",
    "my_list, popped_element"
   ]
  },
  {
   "cell_type": "markdown",
   "id": "d6fa7c5f",
   "metadata": {},
   "source": [
    "## 元组（Tuple） 💠\n",
    "**元组**是一种有序的不可变容器类型，使用圆括号 `()` 表示。一旦创建，元组中的元素不能被修改。\n",
    "\n",
    "### 创建和初始化元组 📝\n",
    "你可以通过以下方式创建元组：\n",
    "```python\n",
    "my_tuple = (1, 2, 3, 'a', 'b', 'c')\n",
    "```\n",
    "\n",
    "### 元组的不可变性 🔒\n",
    "由于元组是不可变的，因此它们的元素不能被修改，这使得元组在需要保护数据完整性的场景中非常有用。\n",
    "\n",
    "### 元组的拆包 📦\n",
    "你可以将元组的元素直接赋值给多个变量，这称为元组的拆包。\n"
   ]
  },
  {
   "cell_type": "code",
   "execution_count": null,
   "id": "8fc76c7f",
   "metadata": {},
   "outputs": [],
   "source": [
    "# Tuple creation and unpacking\n",
    "my_tuple = (1, 2, 3, 'a', 'b', 'c')\n",
    "\n",
    "# Accessing elements by index\n",
    "first_element = my_tuple[0]\n",
    "last_element = my_tuple[-1]\n",
    "# Unpacking the tuple\n",
    "num1, num2, num3, char1, char2, char3 = my_tuple\n",
    "\n",
    "first_element, last_element, num1, num2, num3, char1, char2, char3\n"
   ]
  },
  {
   "cell_type": "markdown",
   "id": "e8cdeb05",
   "metadata": {},
   "source": [
    "## 字典（Dictionary） 📚\n",
    "**字典**是一种无序的可变容器类型，使用大括号 `{}` 表示，并且以键值对的形式存储数据。每个键在字典中是唯一的。\n",
    "\n",
    "### 创建和初始化字典 📝\n",
    "你可以通过以下方式创建字典：\n",
    "```python\n",
    "my_dict = {'name': 'Alice', 'age': 25, 'city': 'New York'}\n",
    "```\n",
    "\n",
    "### 访问、添加和修改字典中的值 🔑\n",
    "你可以通过键来访问、添加或修改字典中的值。\n"
   ]
  },
  {
   "cell_type": "code",
   "execution_count": null,
   "id": "3d92655c",
   "metadata": {},
   "outputs": [],
   "source": [
    "# Dictionary creation and operations\n",
    "my_dict = {'name': 'Alice', 'age': 25, 'city': 'New York'}\n",
    "\n",
    "# Accessing values by key\n",
    "name = my_dict['name']\n",
    "\n",
    "# Adding a new key-value pair\n",
    "my_dict['job'] = 'Engineer'\n",
    "\n",
    "# Modifying an existing value\n",
    "my_dict['age'] = 26\n",
    "\n",
    "# Removing a key-value pair\n",
    "removed_value = my_dict.pop('city')\n",
    "\n",
    "# Getting all keys, values, and items\n",
    "keys = list(my_dict.keys())\n",
    "values = list(my_dict.values())\n",
    "items = list(my_dict.items())\n",
    "\n",
    "name, my_dict, removed_value, keys, values, items\n"
   ]
  },
  {
   "cell_type": "markdown",
   "id": "b45f2bb7",
   "metadata": {},
   "source": [
    "## 集合（Set） 🌐\n",
    "**集合**是一种无序且元素唯一的容器类型，使用大括号 `{}` 表示。集合主要用于去重和集合操作（如并集、交集等）。\n",
    "\n",
    "### 创建和初始化集合 📝\n",
    "你可以通过以下方式创建集合：\n",
    "```python\n",
    "my_set = {1, 2, 3, 4, 5}\n",
    "```\n",
    "\n",
    "### 集合的基本操作 🔄\n",
    "集合支持添加、删除元素等操作。\n"
   ]
  },
  {
   "cell_type": "code",
   "execution_count": null,
   "id": "b5785275",
   "metadata": {},
   "outputs": [],
   "source": [
    "# Set creation and operations\n",
    "my_set = {1, 2, 3, 4, 5}\n",
    "\n",
    "# Adding an element\n",
    "my_set.add(6)\n",
    "\n",
    "# Removing an element\n",
    "my_set.remove(3)  # Will raise an error if the element is not found\n",
    "my_set.discard(10)  # Will not raise an error if the element is not found\n",
    "\n",
    "# Set operations\n",
    "another_set = {4, 5, 6, 7}\n",
    "\n",
    "# Union\n",
    "union_set = my_set | another_set\n",
    "\n",
    "# Intersection\n",
    "intersection_set = my_set & another_set\n",
    "\n",
    "# Difference\n",
    "difference_set = my_set - another_set\n",
    "\n",
    "# Symmetric Difference\n",
    "symmetric_difference_set = my_set ^ another_set\n",
    "\n",
    "my_set, union_set, intersection_set, difference_set, symmetric_difference_set\n"
   ]
  },
  {
   "cell_type": "markdown",
   "id": "0e5d1418",
   "metadata": {},
   "source": [
    "## 字符串函数 📝\n",
    "在前一章中，我们介绍了字符串的基础知识，现在我们将学习一些常用的字符串操作函数。\n",
    "\n",
    "### `split()`：拆分字符串 📑\n",
    "该函数将字符串拆分为列表，默认以空格为分隔符。\n",
    "\n",
    "### `join()`：连接列表 🔗\n",
    "该函数将列表中的元素连接成一个字符串，使用指定的分隔符。\n",
    "\n",
    "### `replace()`：替换字符串 🖊️\n",
    "该函数用于将字符串中的某个子字符串替换为另一个子字符串。\n"
   ]
  },
  {
   "cell_type": "code",
   "execution_count": null,
   "id": "c353c763",
   "metadata": {},
   "outputs": [],
   "source": [
    "# String functions examples\n",
    "sentence = \"This is a simple sentence.\"\n",
    "\n",
    "# Split the sentence into words\n",
    "words = sentence.split()\n",
    "\n",
    "# Join the words back into a sentence, separated by hyphens\n",
    "joined_sentence = \"-\".join(words)\n",
    "\n",
    "# Replace a word in the sentence\n",
    "replaced_sentence = sentence.replace(\"simple\", \"complex\")\n",
    "\n",
    "words, joined_sentence, replaced_sentence\n"
   ]
  },
  {
   "cell_type": "markdown",
   "id": "1cb5adcc",
   "metadata": {},
   "source": [
    "## 总结与练习 🏁\n",
    "在本课中，你学习了：\n",
    "- 什么是容器类型，包括列表、元组、字典和集合。\n",
    "- 列表的创建、索引、切片及其常用操作。\n",
    "- 元组的不可变性及其拆包。\n",
    "- 字典的键值对操作及常用方法。\n",
    "- 集合的基本操作及集合运算。\n",
    "- 字符串的常用函数：`split()`，`join()` 和 `replace()`。\n",
    "\n",
    "### 练习 📚\n"
   ]
  },
  {
   "cell_type": "code",
   "execution_count": null,
   "id": "e1c3ed92-3982-431d-ada3-927fa9d9711f",
   "metadata": {},
   "outputs": [],
   "source": [
    "# 1. 创建一个包含多个元素的列表，并尝试对其进行索引、切片和修改操作。"
   ]
  },
  {
   "cell_type": "code",
   "execution_count": null,
   "id": "31f777c2-3497-4df2-8c7b-9c765679bfbd",
   "metadata": {},
   "outputs": [],
   "source": [
    "# 2. 创建一个元组，并尝试对其进行拆包操作。"
   ]
  },
  {
   "cell_type": "code",
   "execution_count": null,
   "id": "c7fd65b2-7d9b-4ea9-8426-3513cf950ddd",
   "metadata": {},
   "outputs": [],
   "source": [
    "# 3. 创建一个字典，并添加、修改和删除其中的键值对。"
   ]
  },
  {
   "cell_type": "code",
   "execution_count": null,
   "id": "82a22469-3ec9-4bdb-b71e-2ebcad73b286",
   "metadata": {},
   "outputs": [],
   "source": [
    "# 4. 创建两个集合，尝试对其进行并集、交集和差集运算。"
   ]
  },
  {
   "cell_type": "code",
   "execution_count": null,
   "id": "bd3d08c2-480f-4766-ad03-a19bc30c039a",
   "metadata": {},
   "outputs": [],
   "source": [
    "# 5. 使用 `split()` 函数将字符串拆分为列表，然后使用 `join()` 函数将其重新连接成字符串。"
   ]
  },
  {
   "cell_type": "code",
   "execution_count": null,
   "id": "5764b6e5-02de-4125-acd3-b5c2f63a248d",
   "metadata": {},
   "outputs": [],
   "source": [
    "# 6. 使用 `replace()` 函数将字符串中的某个单词替换为另一个单词。"
   ]
  },
  {
   "cell_type": "markdown",
   "id": "29cb8191-8f78-4759-9c6c-b3b40cad25cf",
   "metadata": {},
   "source": [
    "# 你知道吗？ 🕵️‍♂️\n",
    "\n",
    "`in` 关键字是Python中非常灵活和强大的工具，它在多种场景下提供了简洁且高效的方式来检查成员资格和进行迭代。"
   ]
  },
  {
   "cell_type": "code",
   "execution_count": null,
   "id": "64aa50d7-0c55-4b25-95e9-acdf6f75633a",
   "metadata": {},
   "outputs": [],
   "source": [
    "# 1. 成员检查，可以用来判断一个元素是否存在于（列表，元组，集合，字符串等）容器中\n",
    "in_list= 1 in [1,2,3,4]\n",
    "in_tuple= 'a' in ('a','b','c')\n",
    "in_string= 'b' in 'apple'\n",
    "in_set='bob' in {'Tom', 'Jerry', 'Spike'}\n",
    "\n",
    "in_list, in_tuple, in_string, in_set"
   ]
  },
  {
   "cell_type": "code",
   "execution_count": null,
   "id": "16576447-d1a6-455f-8703-6bdc393f23df",
   "metadata": {},
   "outputs": [],
   "source": [
    "# 2. 子字符串检查，可以用来判断一个字符串是否是另一个字符串的子串\n",
    "in_string='lie' in 'believe'\n",
    "in_string"
   ]
  },
  {
   "cell_type": "code",
   "execution_count": null,
   "id": "12bb3a7c-3ce3-4052-b6aa-73facd66af5f",
   "metadata": {},
   "outputs": [],
   "source": [
    "# 3. 字典键值检查，可以用来判断一个键是否在字典中\n",
    "in_dict_key= 'Job' in {'name':'Musk', 'Age':53, 'Job':'CEO'}\n",
    "in_dict_value= 'Musk' in {'name':'Musk', 'Age':53, 'Job':'CEO'}\n",
    "in_dict_key, in_dict_value"
   ]
  },
  {
   "cell_type": "code",
   "execution_count": null,
   "id": "5063855d-b7d9-4317-a9dc-b82ae736a520",
   "metadata": {},
   "outputs": [],
   "source": [
    "# 4. 迭代，in 与 for 结合使用可以用来遍历序列中的元素\n",
    "for i in [1,2,3,4]:\n",
    "    print(i)"
   ]
  }
 ],
 "metadata": {
  "kernelspec": {
   "display_name": "Python 3 (ipykernel)",
   "language": "python",
   "name": "python3"
  },
  "language_info": {
   "codemirror_mode": {
    "name": "ipython",
    "version": 3
   },
   "file_extension": ".py",
   "mimetype": "text/x-python",
   "name": "python",
   "nbconvert_exporter": "python",
   "pygments_lexer": "ipython3",
   "version": "3.11.9"
  }
 },
 "nbformat": 4,
 "nbformat_minor": 5
}
