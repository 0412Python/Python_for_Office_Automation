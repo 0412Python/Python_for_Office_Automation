{
 "cells": [
  {
   "cell_type": "markdown",
   "id": "636ab2c0",
   "metadata": {},
   "source": [
    "# 基本数据类型\n",
    "在编程中，**数据类型**用于表示不同类型的数据。在 Python 中，常见的数据类型包括数字（整数和浮点数）和字符串。\n"
   ]
  },
  {
   "cell_type": "markdown",
   "id": "5f7c833b",
   "metadata": {},
   "source": [
    "## 为什么数据类型很重要？\n",
    "了解数据类型非常重要，因为它们决定了数据的存储方式和能够执行的操作。例如，数字可以进行算术运算，而字符串则用于存储文本信息。\n"
   ]
  },
  {
   "cell_type": "markdown",
   "id": "f9cc3ff1",
   "metadata": {},
   "source": [
    "## 数字类型\n",
    "在 Python 中，数字类型主要有几种：\n",
    "- **整数 (int)**：表示没有小数部分的数字，例如 1、42、-5。\n",
    "- **浮点数 (float)**：表示有小数部分的数字，例如 3.14、-0.001、2.0。\n",
    "- **十六进制数**：使用 `0x` 前缀表示，例如 `0x1A`。\n",
    "- **指数形式数**：使用科学计数法表示，例如 `1.23e4`（即 1.23 × 10⁴）。\n",
    "\n",
    "### 基本的数学运算\n",
    "你可以使用 Python 进行基本的数学运算，如加、减、乘、除，以及乘方和开方。\n"
   ]
  },
  {
   "cell_type": "code",
   "execution_count": null,
   "id": "79e0ed2c",
   "metadata": {},
   "outputs": [],
   "source": [
    "\n",
    "\n",
    "a = 10  # integer\n",
    "b = 3.5  # float\n",
    "c = 0x1A  # Hexadecimal number\n",
    "d = 1.23e4  # Exponential form\n",
    "\n",
    "# Addition\n",
    "addition = a + b\n",
    "\n",
    "# Subtraction\n",
    "subtraction = a - b\n",
    "\n",
    "# Multiplication\n",
    "multiplication = a * b\n",
    "\n",
    "# Division\n",
    "division = a / b\n",
    "\n",
    "# Exponentiation (a raised to the power of 2)\n",
    "power = a ** 2\n",
    "\n",
    "# Square root of a\n",
    "square_root = a ** 0.5\n",
    "\n",
    "addition, subtraction, multiplication, division, power, square_root, c, d\n"
   ]
  },
  {
   "cell_type": "markdown",
   "id": "23f8c5dd",
   "metadata": {},
   "source": [
    "## 字符串类型\n",
    "**字符串 (str)** 用于存储文本信息。在 Python 中，字符串由引号括起来，例如 \"Hello, World!\" 或 'Python'。\n",
    "\n",
    "### 单引号和双引号\n",
    "在 Python 中，单引号 ('') 和双引号 (\"\") 都可以用来表示字符串。两者在功能上没有区别，但在需要嵌套引号时，可以灵活选择使用。例如：\n",
    "- 'He said, \"Hello!\"' 使用单引号括起字符串，以便在内部使用双引号。\n",
    "- \"It's a sunny day!\" 使用双引号括起字符串，以便在内部使用单引号。\n",
    "\n",
    "### 转义字符\n",
    "当你需要在字符串中使用特殊字符时，可以使用转义字符。常见的转义字符有：\n",
    "- `\\n` 表示换行符。\n",
    "- `\\t` 表示制表符。\n",
    "- `\\\"` 表示双引号。\n",
    "- `\\'` 表示单引号。\n",
    "\n",
    "### 原始字符串和格式化字符串\n",
    "- **原始字符串 (r'')**：在字符串前加 `r` 可以告诉 Python 忽略所有的转义字符。\n",
    "- **格式化字符串 (f'')**：在字符串前加 `f` 可以让你在字符串中嵌入变量的值。\n"
   ]
  },
  {
   "cell_type": "code",
   "execution_count": null,
   "id": "f441ced6",
   "metadata": {},
   "outputs": [],
   "source": [
    "# String creation and basic operations\n",
    "greeting = \"Hello\"\n",
    "name = \"Alice\"\n",
    "\n",
    "# String concatenation\n",
    "full_greeting = greeting + \", \" + name + \"!\"\n",
    "\n",
    "# String repetition\n",
    "repeated_greeting = greeting * 3\n",
    "\n",
    "# String indexing\n",
    "first_letter = name[0]\n",
    "\n",
    "# Escape sequences\n",
    "new_line_str = \"Hello\\nWorld\"\n",
    "tabbed_str = \"Hello\\tWorld\"\n",
    "\n",
    "# Raw string\n",
    "raw_str = r\"Hello\\nWorld\"\n",
    "\n",
    "# Formatted string\n",
    "formatted_str = f\"Hello, {name}!\"\n",
    "\n",
    "full_greeting, repeated_greeting, first_letter, new_line_str, tabbed_str, raw_str, formatted_str\n"
   ]
  },
  {
   "cell_type": "markdown",
   "id": "ef7b34d8",
   "metadata": {},
   "source": [
    "## 字符串函数\n",
    "Python 提供了许多用于操作字符串的内置函数。以下是几个常用的字符串函数：\n",
    "\n",
    "- **`split()`**：将字符串拆分为列表，默认以空格为分隔符。\n",
    "- **`replace()`**：将字符串中的某个子字符串替换为另一个子字符串。\n"
   ]
  },
  {
   "cell_type": "code",
   "execution_count": null,
   "id": "feadcb4f",
   "metadata": {},
   "outputs": [],
   "source": [
    "# String functions examples\n",
    "sentence = \"This is a simple sentence.\"\n",
    "\n",
    "# Split the sentence into words\n",
    "words = sentence.split()\n",
    "\n",
    "# Replace a word in the sentence\n",
    "replaced_sentence = sentence.replace(\"simple\", \"complex\")\n",
    "\n",
    "words, replaced_sentence\n"
   ]
  },
  {
   "cell_type": "markdown",
   "id": "512344e1e6497010",
   "metadata": {},
   "source": [
    "## 布尔类型与布尔运算\n",
    "\n",
    "布尔类型（Boolean）是一种表示逻辑值的数据类型。布尔值只有两个：`True`（真）和 `False`（假）。\n",
    "\n",
    "### 布尔类型\n",
    "\n",
    "布尔类型在逻辑判断中非常常用，通常出现在条件语句和循环中。布尔值在 Python 中是关键字 `True` 和 `False`，注意它们的首字母必须大写。"
   ]
  },
  {
   "cell_type": "code",
   "execution_count": null,
   "id": "11b05b0476311090",
   "metadata": {},
   "outputs": [],
   "source": [
    "# Boolean type example\n",
    "is_sunny = True\n",
    "is_raining = False\n",
    "\n",
    "is_sunny, is_raining"
   ]
  },
  {
   "cell_type": "markdown",
   "id": "bfaafce18ee5e0c8",
   "metadata": {},
   "source": [
    "### 布尔运算\n",
    "\n",
    "布尔运算用于在逻辑表达式中组合多个条件。常见的布尔运算符包括：\n",
    "- `and`：与运算，当所有条件都为真时返回 `True`，否则返回 `False`。\n",
    "- `or`：或运算，当至少一个条件为真时返回 `True`，否则返回 `False`。\n",
    "- `not`：非运算，将布尔值取反，`True` 变为 `False`，`False` 变为 `True`。\n",
    "\n",
    "还有一些常用的比较运算符，它们返回布尔值：\n",
    "- `==`：等于\n",
    "- `!=`：不等于\n",
    "- `>`：大于\n",
    "- `<`：小于\n",
    "- `>=`：大于等于\n",
    "- `<=`：小于等于\n"
   ]
  },
  {
   "cell_type": "code",
   "execution_count": null,
   "id": "577dd2d3caf88f0",
   "metadata": {},
   "outputs": [],
   "source": [
    "# Boolean operations example\n",
    "x = 10\n",
    "y = 5\n",
    "\n",
    "# and operation\n",
    "result_and = (x > 0) and (y > 0)  # True, because both conditions are True\n",
    "\n",
    "# or operation\n",
    "result_or = (x < 0) or (y > 0)  # True, because one condition is True\n",
    "\n",
    "# not operation\n",
    "result_not = not (x > 0)  # False, because x > 0 is True and not reverses it\n",
    "\n",
    "# Comparison operations\n",
    "result_eq = (x == 10)  # True\n",
    "result_neq = (x != 10)  # False\n",
    "\n",
    "result_and, result_or, result_not, result_eq, result_neq\n"
   ]
  },
  {
   "cell_type": "markdown",
   "id": "5823153469f2e43d",
   "metadata": {},
   "source": [
    "## 逻辑表达式\n",
    "\n",
    "逻辑表达式是由布尔值和布尔运算符组合而成的表达式，它们在控制流语句中非常常用。\n",
    "\n",
    "### 复杂逻辑表达式\n",
    "可以将多个布尔运算符结合起来构建复杂的逻辑表达式。\n"
   ]
  },
  {
   "cell_type": "code",
   "execution_count": null,
   "id": "381423c0f2939fc7",
   "metadata": {},
   "outputs": [],
   "source": [
    "# Logical expressions example\n",
    "x = 10\n",
    "y = 5\n",
    "z = -3\n",
    "\n",
    "# Complex logical expression\n",
    "result = (x > 0 and y > 0) or (z < 0 and not (x == 10))\n",
    "\n",
    "result"
   ]
  },
  {
   "cell_type": "markdown",
   "id": "03a9e0e7",
   "metadata": {},
   "source": [
    "## 数据类型转换\n",
    "在 Python 中，你可以使用内置函数在不同的数据类型之间进行转换，例如：\n",
    "- `int()` 将值转换为整数。\n",
    "- `float()` 将值转换为浮点数。\n",
    "- `str()` 将值转换为字符串。\n"
   ]
  },
  {
   "cell_type": "code",
   "execution_count": 1,
   "id": "7accb87f",
   "metadata": {
    "ExecuteTime": {
     "end_time": "2024-08-25T10:50:24.382197Z",
     "start_time": "2024-08-25T10:50:24.374853Z"
    }
   },
   "outputs": [
    {
     "data": {
      "text/plain": [
       "(100, True, 100.0, '100.0')"
      ]
     },
     "execution_count": 1,
     "metadata": {},
     "output_type": "execute_result"
    }
   ],
   "source": [
    "# Data type conversion examples\n",
    "num_str = \"100\"  # string representing a number\n",
    "\n",
    "# Convert string to integer\n",
    "num_int = int(num_str)\n",
    "\n",
    "# Convert integer to boolean\n",
    "num_boolean=bool(num_int)\n",
    "\n",
    "# Convert integer to float\n",
    "num_float = float(num_int)\n",
    "\n",
    "# Convert number to string\n",
    "new_str = str(num_float)\n",
    "\n",
    "num_int, num_boolean, num_float, new_str\n"
   ]
  },
  {
   "cell_type": "markdown",
   "id": "640b32dd",
   "metadata": {},
   "source": [
    "## 总结与练习\n",
    "在本课中，你学习了：\n",
    "- 什么是数据类型，以及它们为什么重要。\n",
    "- 数字类型：整数、浮点数、十六进制数和指数形式数，以及数学运算。\n",
    "- 字符串类型及其基本操作，包括转义字符、原始字符串、格式化字符串。\n",
    "- 字符串的常用函数：`split()` 和 `replace()`。\n",
    "- 布尔类型：`True`（真）和 `False`（假）。\n",
    "- 布尔运算符：`and`（与） `or`（或）和 `not`（非）。 \n",
    "- 如何在不同的数据类型之间进行转换。\n",
    "\n",
    "### 练习题\n",
    "1. 创建一个包含你的名字的字符串，并将其重复三次。\n",
    "2. 将字符串 \"3.14159\" 转换为浮点数，并将其与 2 进行乘法运算。\n",
    "3. 尝试将一个包含字母的字符串转换为整数，看看会发生什么。\n",
    "4. 使用 `replace()` 函数将字符串中的某个单词替换为另一个单词。\n",
    "5. 修改表达式使结果为`Ture`（真）。\n"
   ]
  },
  {
   "cell_type": "code",
   "execution_count": null,
   "id": "a48c993d54dee663",
   "metadata": {},
   "outputs": [],
   "source": [
    "# 1. 创建一个包含你的名字的字符串，并将其重复三次。"
   ]
  },
  {
   "cell_type": "code",
   "execution_count": null,
   "id": "ad83cf7c32a73fdb",
   "metadata": {},
   "outputs": [],
   "source": [
    "# 2. 将字符串 \"3.14159\" 转换为浮点数，并将其与 2 进行乘法运算。"
   ]
  },
  {
   "cell_type": "code",
   "execution_count": null,
   "id": "c6594ef41bf62f7b",
   "metadata": {},
   "outputs": [],
   "source": [
    "# 3. 尝试将一个包含字母的字符串转换为整数，看看会发生什么。"
   ]
  },
  {
   "cell_type": "code",
   "execution_count": null,
   "id": "3326fdbb79e77f0b",
   "metadata": {},
   "outputs": [],
   "source": [
    "# 4. 使用 `replace()` 函数将字符串中的某个单词替换为另一个单词。"
   ]
  },
  {
   "cell_type": "code",
   "execution_count": 4,
   "id": "3c2c66d87b311144",
   "metadata": {
    "ExecuteTime": {
     "end_time": "2024-08-25T11:15:10.122626Z",
     "start_time": "2024-08-25T11:15:10.118864Z"
    }
   },
   "outputs": [
    {
     "data": {
      "text/plain": [
       "False"
      ]
     },
     "execution_count": 4,
     "metadata": {},
     "output_type": "execute_result"
    }
   ],
   "source": [
    "# 5. 修改表达式使结果为`Ture`（真）。\n",
    "result = (5>3) and (7<=4) or (3==1)\n",
    "result"
   ]
  }
 ],
 "metadata": {
  "kernelspec": {
   "display_name": "Python 3 (ipykernel)",
   "language": "python",
   "name": "python3"
  },
  "language_info": {
   "codemirror_mode": {
    "name": "ipython",
    "version": 3
   },
   "file_extension": ".py",
   "mimetype": "text/x-python",
   "name": "python",
   "nbconvert_exporter": "python",
   "pygments_lexer": "ipython3",
   "version": "3.12.4"
  }
 },
 "nbformat": 4,
 "nbformat_minor": 5
}
