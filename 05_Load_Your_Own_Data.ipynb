{
 "cells": [
  {
   "cell_type": "markdown",
   "id": "5830f5b7-3b85-4a79-80e2-90a3fe4d5256",
   "metadata": {},
   "source": [
    "# 如何处理你的文件 📁\n",
    "\n",
    "本节课将介绍如何在 Python 中处理文件，包括文件的读写、管理、以及如何处理常见的文件类型如 CSV 文件。学习这些内容将为后续的 Excel 自动化处理打下基础。"
   ]
  },
  {
   "cell_type": "markdown",
   "id": "6e9149ca",
   "metadata": {},
   "source": [
    "## 1. 文件操作的基础 🏠\n",
    "\n",
    "文件操作是指通过代码对文件进行读取、写入、修改等操作。在日常编程中，文件操作非常常见，尤其是在数据处理和自动化办公中。\n",
    "\n",
    "常见的文件类型包括：\n",
    "- 文本文件（.txt）\n",
    "- CSV 文件（.csv）\n",
    "- Excel 文件（.xlsx）\n",
    "\n",
    "在进行文件操作时，我们需要使用文件路径来定位文件。文件路径有两种类型：\n",
    "- **相对路径**：相对路径是相对于当前工作目录的路径。例如，`data\\\\example.txt` 是相对于当前目录的一个文件路径。\n",
    "- **绝对路径**：绝对路径是文件在计算机中的完整路径。例如，`C:\\\\Users\\\\Username\\\\Documents\\\\data\\\\example.txt` 是一个 Windows 系统上的绝对路径。\n",
    "\n",
    "### 示例：\n",
    "- 相对路径：`data\\\\example.txt`\n",
    "- 绝对路径：`C:\\\\Users\\\\Username\\\\Documents\\\\data\\\\example.txt`"
   ]
  },
  {
   "cell_type": "markdown",
   "id": "e403e87dadd34112",
   "metadata": {},
   "source": [
    "## 2. open()函数的使用 📖\n",
    "open() 函数是 Python 中用来操作文件的重要工具，支持创建文件、读取文件、写入文件等功能。下面将详细介绍 open() 函数的用法，包括如何创建文件、读取文件、写入文件，以及如何使用 with 语句来安全地管理文件。\n",
    "\n",
    "### 2.1 open() 的基本语法 🔧\n",
    "`open()` 函数的基本语法如下：\n",
    "\n",
    "```python\n",
    "file_object = open(file_name, mode)\n",
    "```\n",
    "\n",
    "- `file_name`：文件的名称，可以是相对路径或绝对路径 。\n",
    "- `mode`：文件的打开模式，例如 ：\n",
    "  - `'r'`：只读模式（默认）\n",
    "  - `'w'`：写入模式（会覆盖已有内容）\n",
    "  - `'a'`：追加模式（在文件末尾添加内容）\n",
    "  - `'x'`：创建模式\n",
    "  - `'+'`：读写模式\n",
    "  \n",
    "下面我们来了解一下open()函数在不同场景下的使用方法\n",
    "\n",
    "### 2.2 创建和写入文件 📝\n",
    "可以使用 `open()` 函数的 `'w'` 模式或`'x'`来创建文件，它们的区别在于如果你要创建的文件已存在时`'w'`模式会覆盖当前文件，而`'x'`模式会报错`FileExistsError`。"
   ]
  },
  {
   "cell_type": "code",
   "execution_count": null,
   "id": "a6d69da67c7cef31",
   "metadata": {},
   "outputs": [],
   "source": [
    "import os\n",
    "import string\n",
    "\n",
    "print(os.getcwd())\n",
    "# 创建一个文件，并在文件中写入'Hello World!'\n",
    "file_hello=open('./Resource/Hello.txt','w')\n",
    "file_hello.write('Hello World!')\n",
    "file_hello.close()\n",
    "# 使用'x'模式创建同名文件\n",
    "file_hello=open('./Resource/Hello.txt','x')\n",
    "file_hello.write('Hello World!')\n",
    "file_hello.close()\n"
   ]
  },
  {
   "cell_type": "markdown",
   "id": "d8a99cbb687d6427",
   "metadata": {},
   "source": [
    "### 2.3 读取文件 📚使用 `'r'` 模式可以读取文件内容。如果文件不存在，Python 会抛出 `FileNotFoundError` 异常 。"
   ]
  },
  {
   "cell_type": "code",
   "execution_count": null,
   "id": "be4c405bb68b336b",
   "metadata": {},
   "outputs": [],
   "source": [
    "# 使用'r'模式读取文件内容\n",
    "file_hello=open('./Resource/Hello.txt','r')\n",
    "content=file_hello.read()\n",
    "file_hello.close()\n",
    "print(content)"
   ]
  },
  {
   "cell_type": "markdown",
   "id": "e2941e51",
   "metadata": {},
   "source": [
    "对于多行文件可以使用`readline()`,或者`readlines()`方法来按行读取文件内容"
   ]
  },
  {
   "cell_type": "code",
   "execution_count": null,
   "id": "56d9761a",
   "metadata": {},
   "outputs": [],
   "source": [
    "# 创建一个有多行文本的文件\n",
    "content='this is first line\\nthis is second line\\nthis is third line'\n",
    "file_multiple=open('./Resource/multiple_lines.txt','w')\n",
    "file_multiple.write(content)\n",
    "file_multiple.close()\n",
    "# 使用readline()读取文件\n",
    "file_multiple=open('./Resource/multiple_lines.txt','r')\n",
    "content=file_multiple.readline()\n",
    "print(content)\n",
    "content=file_multiple.readline()\n",
    "print(content)\n",
    "content=file_multiple.readline()\n",
    "print(content)\n",
    "file_multiple.close()\n",
    "#使用readlines()读取文件\n",
    "file_multiple=open('./Resource/multiple_lines.txt','r')\n",
    "content=file_multiple.readlines()\n",
    "print(content)\n",
    "file_multiple.close()"
   ]
  },
  {
   "cell_type": "markdown",
   "id": "85fab13b",
   "metadata": {},
   "source": [
    "### 2.4 写入文件 ✍️前面已经讲过可以使用`'w'`模式覆盖写入现有文件，对于希望在现有文件基础上增加内容的需求可以使用`'a'`追加模式\n",
    "\n",
    "跟`readlines()`类似，也可以使用 `writelines()` 方法可以将数据写入文件,但是`writeline()`不会自动给数据加上换行符："
   ]
  },
  {
   "cell_type": "code",
   "execution_count": null,
   "id": "c9c188a2",
   "metadata": {},
   "outputs": [],
   "source": [
    "# 使用追加模式打开multiple_lines.txt\n",
    "file=open('./Resource/multiple_lines.txt','a')\n",
    "file.writelines(['x\\n','y\\n','z'])\n",
    "file.close()\n",
    "file=open('./Resource/multiple_lines.txt','r')\n",
    "content=file.read()\n",
    "file.close()\n",
    "print(content)"
   ]
  },
  {
   "cell_type": "markdown",
   "id": "0cb63513",
   "metadata": {},
   "source": [
    "### 2.5 with 关键字 🔐\n",
    "\n",
    "你可能已经注意到了，文件操作总是需要以`file.close()`结尾，那是因为计算机需要通过执行`close()`方法来释放内存，在这之后就不能再对`file`对象进行操作了。\n",
    "\n",
    "\n",
    "python 还提供了with关键字来代替`close()`方法，可以使用`with open(path) as obj`函数来避免手动调用`file.close()`\n",
    "\n",
    "例如:"
   ]
  },
  {
   "cell_type": "code",
   "execution_count": null,
   "id": "45b5a98df00c96d9",
   "metadata": {},
   "outputs": [],
   "source": [
    "with open('./Resource/multiple_lines.txt','r') as file:\n",
    "    # 在with语句内可以执行file相关函数\n",
    "    content=file.read()\n",
    "    print(content)\n",
    "# 在此调用file相关函数会报错\n",
    "file.read()"
   ]
  },
  {
   "cell_type": "markdown",
   "id": "573a6a910d9ec77a",
   "metadata": {},
   "source": [
    "### 练习 📝"
   ]
  },
  {
   "cell_type": "code",
   "execution_count": null,
   "id": "296c2c9971b4aa20",
   "metadata": {},
   "outputs": [],
   "source": [
    "# 练习1\n",
    "# 修改password字符串，并将该字符串作为参数传递给encrypt()函数，并将返回值保存为encrypted.txt\n",
    "password='input your password'\n",
    "def encrypt(passwd):\n",
    "    encrypted=''\n",
    "    for char in passwd:\n",
    "        if char in string.ascii_uppercase:\n",
    "            order= string.ascii_uppercase.index(char)\n",
    "            order = order+13 if order<13 else order-13\n",
    "            char_encrypted=string.ascii_uppercase[order]\n",
    "        elif char in string.ascii_lowercase:\n",
    "            order=string.ascii_lowercase.index(char)\n",
    "            order = order+13 if order<13 else order-13\n",
    "            char_encrypted=string.ascii_lowercase[order]\n",
    "        else:\n",
    "            char_encrypted=char\n",
    "        encrypted+=char_encrypted\n",
    "    return encrypted\n",
    "\n",
    "# your code below\n",
    "    \n"
   ]
  },
  {
   "cell_type": "code",
   "execution_count": null,
   "id": "b6538fffda72e0eb",
   "metadata": {},
   "outputs": [],
   "source": [
    "# 练习2\n",
    "# 读取encrypted.txt并将内容保存到变量中，将变量作为参数传递给encrypt()函数，并尝试将返回值打印出来\n",
    "content=''\n",
    "# your code below\n",
    "\n",
    "print(content)"
   ]
  },
  {
   "cell_type": "markdown",
   "id": "8c208f90",
   "metadata": {},
   "source": [
    "## 6. 文件夹和文件的管理 🗂️\n",
    "\n",
    "使用 `os` 模块可以对文件和文件夹进行管理操作，例如创建、删除、重命名等。\n",
    "\n",
    "### 示例：\n"
   ]
  },
  {
   "cell_type": "code",
   "execution_count": null,
   "id": "0e0e304e",
   "metadata": {},
   "outputs": [],
   "source": [
    "import os\n",
    "\n",
    "# 创建一个新的文件夹\n",
    "os.makedirs('new_folder', exist_ok=True)\n",
    "\n",
    "# 重命名文件\n",
    "os.rename('./Resource/Hello.txt', './Resource/hello.txt')\n",
    "\n",
    "# 删除文件\n",
    "os.remove('./Resource/multiple_lines.txt')\n",
    "\n",
    "# 遍历文件夹\n",
    "directories=os.listdir('./Resource')\n",
    "print(directories)\n",
    "# 判断一个文件是否是特定格式\n",
    "for dir in directories:\n",
    "    if dir.endswith('.txt'):\n",
    "        print(dir+'\\n')\n",
    "\n"
   ]
  },
  {
   "cell_type": "markdown",
   "id": "e6dc29d8",
   "metadata": {},
   "source": [
    "## 7. 处理 CSV 文件 📊\n",
    "\n",
    "CSV 文件是一种常见的数据存储格式，可以使用 `csv` 模块读取和写入 CSV 文件。\n",
    "\n",
    "### 示例：\n"
   ]
  },
  {
   "cell_type": "code",
   "execution_count": null,
   "id": "35944ff9",
   "metadata": {},
   "outputs": [],
   "source": [
    "import csv\n",
    "\n",
    "# 读取 CSV 文件\n",
    "with open('example.csv', 'r') as csvfile:\n",
    "    reader = csv.reader(csvfile)\n",
    "    for row in reader:\n",
    "        print(row)\n",
    "\n",
    "# 写入 CSV 文件\n",
    "with open('output.csv', 'w', newline='') as csvfile:\n",
    "    writer = csv.writer(csvfile)\n",
    "    writer.writerow(['Name', 'Age'])\n",
    "    writer.writerow(['Alice', '25'])\n",
    "    writer.writerow(['Bob', '30'])\n"
   ]
  },
  {
   "cell_type": "markdown",
   "id": "bf8776af-871a-4862-b67c-76d3f88566a3",
   "metadata": {},
   "source": [
    "# 你知道吗？ 🕵️‍♂️\n",
    "\n",
    "下面是this.py的源代码，也就是之前讲到的Python之禅的源代码。\n",
    "\n",
    "他的实现则跟python之禅的意境完全反着来，既不优雅也不美观。\n",
    "\n",
    "实际上它使用的就是对称加密的凯撒密码，我们可以尝试运行一下encrypt(s)，看看它的输出。有兴趣可以研究一下this.py中是怎么实现的。"
   ]
  },
  {
   "cell_type": "code",
   "execution_count": null,
   "id": "ae55fb7e-f71a-47b2-854e-69f0a629f114",
   "metadata": {},
   "outputs": [],
   "source": [
    "s = \"\"\"Gur Mra bs Clguba, ol Gvz Crgref\n",
    "\n",
    "Ornhgvshy vf orggre guna htyl.\n",
    "Rkcyvpvg vf orggre guna vzcyvpvg.\n",
    "Fvzcyr vf orggre guna pbzcyrk.\n",
    "Pbzcyrk vf orggre guna pbzcyvpngrq.\n",
    "Syng vf orggre guna arfgrq.\n",
    "Fcnefr vf orggre guna qrafr.\n",
    "Ernqnovyvgl pbhagf.\n",
    "Fcrpvny pnfrf nera'g fcrpvny rabhtu gb oernx gur ehyrf.\n",
    "Nygubhtu cenpgvpnyvgl orngf chevgl.\n",
    "Reebef fubhyq arire cnff fvyragyl.\n",
    "Hayrff rkcyvpvgyl fvyraprq.\n",
    "Va gur snpr bs nzovthvgl, ershfr gur grzcgngvba gb thrff.\n",
    "Gurer fubhyq or bar-- naq cersrenoyl bayl bar --boivbhf jnl gb qb vg.\n",
    "Nygubhtu gung jnl znl abg or boivbhf ng svefg hayrff lbh'er Qhgpu.\n",
    "Abj vf orggre guna arire.\n",
    "Nygubhtu arire vf bsgra orggre guna *evtug* abj.\n",
    "Vs gur vzcyrzragngvba vf uneq gb rkcynva, vg'f n onq vqrn.\n",
    "Vs gur vzcyrzragngvba vf rnfl gb rkcynva, vg znl or n tbbq vqrn.\n",
    "Anzrfcnprf ner bar ubaxvat terng vqrn -- yrg'f qb zber bs gubfr!\"\"\"\n",
    "\n",
    "d = {}\n",
    "for c in (65, 97):\n",
    "    for i in range(26):\n",
    "        d[chr(i+c)] = chr((i+13) % 26 + c)\n",
    "\n",
    "print(\"\".join([d.get(c, c) for c in s]))\n"
   ]
  },
  {
   "cell_type": "code",
   "execution_count": null,
   "id": "575c03b2-8c0f-4a48-83b1-d80cf83c1d2a",
   "metadata": {},
   "outputs": [],
   "source": [
    "encrypt(s)"
   ]
  }
 ],
 "metadata": {
  "kernelspec": {
   "display_name": "Python 3 (ipykernel)",
   "language": "python",
   "name": "python3"
  },
  "language_info": {
   "codemirror_mode": {
    "name": "ipython",
    "version": 3
   },
   "file_extension": ".py",
   "mimetype": "text/x-python",
   "name": "python",
   "nbconvert_exporter": "python",
   "pygments_lexer": "ipython3",
   "version": "3.11.9"
  }
 },
 "nbformat": 4,
 "nbformat_minor": 5
}
