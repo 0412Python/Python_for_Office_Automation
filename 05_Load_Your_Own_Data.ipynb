{
 "cells": [
  {
   "cell_type": "markdown",
   "id": "0b0d424a",
   "metadata": {},
   "source": [
    "# 文件处理基础\n",
    "\n",
    "本节课将介绍如何在 Python 中处理文件，包括文件的读写、管理、以及如何处理常见的文件类型如 CSV 文件。学习这些内容将为后续的 Excel 自动化处理打下基础。\n"
   ]
  },
  {
   "cell_type": "markdown",
   "id": "6e9149ca",
   "metadata": {},
   "source": [
    "## 1. 文件操作的基础\n",
    "\n",
    "文件操作是指通过代码对文件进行读取、写入、修改等操作。在日常编程中，文件操作非常常见，尤其是在数据处理和自动化办公中。\n",
    "\n",
    "常见的文件类型包括：\n",
    "- 文本文件（.txt）\n",
    "- CSV 文件（.csv）\n",
    "- Excel 文件（.xlsx）\n",
    "\n",
    "在进行文件操作时，我们需要使用文件路径来定位文件。文件路径有两种类型：\n",
    "- **相对路径**：相对路径是相对于当前工作目录的路径。例如，`data\\\\example.txt` 是相对于当前目录的一个文件路径。\n",
    "- **绝对路径**：绝对路径是文件在计算机中的完整路径。例如，`C:\\\\Users\\\\Username\\\\Documents\\\\data\\\\example.txt` 是一个 Windows 系统上的绝对路径。\n",
    "\n",
    "### 示例：\n",
    "- 相对路径：`data\\\\example.txt`\n",
    "- 绝对路径：`C:\\\\Users\\\\Username\\\\Documents\\\\data\\\\example.txt`"
   ]
  },
  {
   "cell_type": "markdown",
   "id": "221625a4",
   "metadata": {},
   "source": [
    "## 2. 打开和关闭文件\n",
    "\n",
    "在 Python 中，使用 `open()` 函数可以打开文件，文件可以通过不同模式打开，如读取模式（`r`）、写入模式（`w`）等。\n",
    "\n",
    "### 示例：\n"
   ]
  },
  {
   "cell_type": "code",
   "execution_count": null,
   "id": "9577ad61",
   "metadata": {},
   "outputs": [],
   "source": [
    "# 打开一个文件并读取内容\n",
    "with open('example.txt', 'r') as file:\n",
    "    content = file.read()\n",
    "    print(content)\n"
   ]
  },
  {
   "cell_type": "markdown",
   "id": "e2941e51",
   "metadata": {},
   "source": [
    "## 3. 读取文件内容\n",
    "\n",
    "读取文件内容时，Python 提供了 `read()`、`readline()` 和 `readlines()` 方法：\n",
    "\n",
    "- `read()`：读取整个文件。\n",
    "- `readline()`：按行读取文件，每次读取一行。\n",
    "- `readlines()`：将所有行读入一个列表。\n"
   ]
  },
  {
   "cell_type": "code",
   "execution_count": null,
   "id": "56d9761a",
   "metadata": {},
   "outputs": [],
   "source": [
    "# 按行读取文件内容\n",
    "with open('example.txt', 'r') as file:\n",
    "    for line in file:\n",
    "        print(line.strip())\n"
   ]
  },
  {
   "cell_type": "markdown",
   "id": "85fab13b",
   "metadata": {},
   "source": [
    "## 4. 写入文件\n",
    "\n",
    "使用 `write()` 和 `writelines()` 方法可以将数据写入文件：\n",
    "\n",
    "- `write()`：写入一行数据。\n",
    "- `writelines()`：写入多个行的数据。\n",
    "\n",
    "### 示例：\n"
   ]
  },
  {
   "cell_type": "code",
   "execution_count": null,
   "id": "c9c188a2",
   "metadata": {},
   "outputs": [],
   "source": [
    "# 写入数据到文件\n",
    "with open('example.txt', 'w') as file:\n",
    "    file.write(\"This is a new line.\n",
    "\")\n",
    "    file.writelines([\"Another line.\n",
    "\", \"And another one.\n",
    "\"])\n"
   ]
  },
  {
   "cell_type": "markdown",
   "id": "0cb63513",
   "metadata": {},
   "source": [
    "## 5. 文件操作的异常处理\n",
    "\n",
    "文件操作中常见的错误包括：文件不存在、文件权限问题等。可以使用 `try-except` 结构来捕获并处理这些异常。\n",
    "\n",
    "### 示例：\n"
   ]
  },
  {
   "cell_type": "code",
   "execution_count": null,
   "id": "e2acb247",
   "metadata": {},
   "outputs": [],
   "source": [
    "# 捕获文件不存在的错误\n",
    "try:\n",
    "    with open('non_existent_file.txt', 'r') as file:\n",
    "        content = file.read()\n",
    "except FileNotFoundError:\n",
    "    print(\"文件不存在，请检查文件路径。\")\n"
   ]
  },
  {
   "cell_type": "markdown",
   "id": "8c208f90",
   "metadata": {},
   "source": [
    "## 6. 文件夹和文件的管理\n",
    "\n",
    "使用 `os` 和 `shutil` 模块可以对文件和文件夹进行管理操作，例如创建、删除、重命名等。\n",
    "\n",
    "### 示例：\n"
   ]
  },
  {
   "cell_type": "code",
   "execution_count": null,
   "id": "0e0e304e",
   "metadata": {},
   "outputs": [],
   "source": [
    "import os\n",
    "\n",
    "# 创建一个新的文件夹\n",
    "os.makedirs('new_folder', exist_ok=True)\n",
    "\n",
    "# 重命名文件\n",
    "os.rename('example.txt', 'renamed_example.txt')\n",
    "\n",
    "# 删除文件\n",
    "os.remove('renamed_example.txt')\n"
   ]
  },
  {
   "cell_type": "markdown",
   "id": "e6dc29d8",
   "metadata": {},
   "source": [
    "## 7. 处理 CSV 文件\n",
    "\n",
    "CSV 文件是一种常见的数据存储格式，可以使用 `csv` 模块读取和写入 CSV 文件。\n",
    "\n",
    "### 示例：\n"
   ]
  },
  {
   "cell_type": "code",
   "execution_count": null,
   "id": "35944ff9",
   "metadata": {},
   "outputs": [],
   "source": [
    "import csv\n",
    "\n",
    "# 读取 CSV 文件\n",
    "with open('example.csv', 'r') as csvfile:\n",
    "    reader = csv.reader(csvfile)\n",
    "    for row in reader:\n",
    "        print(row)\n",
    "\n",
    "# 写入 CSV 文件\n",
    "with open('output.csv', 'w', newline='') as csvfile:\n",
    "    writer = csv.writer(csvfile)\n",
    "    writer.writerow(['Name', 'Age'])\n",
    "    writer.writerow(['Alice', '25'])\n",
    "    writer.writerow(['Bob', '30'])\n"
   ]
  },
  {
   "cell_type": "markdown",
   "id": "b2988ac3",
   "metadata": {},
   "source": [
    "## 8. Excel 文件的处理预告\n",
    "\n",
    "在下一部分课程中，我们将学习如何使用 `openpyxl` 库对 Excel 文件进行自动化处理，进一步提高办公效率。\n",
    "\n",
    "- 数据提取\n",
    "- 数据清理\n",
    "- 报表生成\n"
   ]
  }
 ],
 "metadata": {
  "kernelspec": {
   "display_name": "Python 3 (ipykernel)",
   "language": "python",
   "name": "python3"
  },
  "language_info": {
   "codemirror_mode": {
    "name": "ipython",
    "version": 3
   },
   "file_extension": ".py",
   "mimetype": "text/x-python",
   "name": "python",
   "nbconvert_exporter": "python",
   "pygments_lexer": "ipython3",
   "version": "3.12.4"
  }
 },
 "nbformat": 4,
 "nbformat_minor": 5
}
