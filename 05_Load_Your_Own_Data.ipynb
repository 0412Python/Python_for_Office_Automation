{
 "cells": [
  {
   "cell_type": "markdown",
   "id": "0b0d424a",
   "metadata": {},
   "source": [
    "# 文件处理基础\n",
    "\n",
    "本节课将介绍如何在 Python 中处理文件，包括文件的读写、管理、以及如何处理常见的文件类型如 CSV 文件。学习这些内容将为后续的 Excel 自动化处理打下基础。\n"
   ]
  },
  {
   "cell_type": "markdown",
   "id": "6e9149ca",
   "metadata": {},
   "source": [
    "## 1. 文件操作的基础\n",
    "\n",
    "文件操作是指通过代码对文件进行读取、写入、修改等操作。在日常编程中，文件操作非常常见，尤其是在数据处理和自动化办公中。\n",
    "\n",
    "常见的文件类型包括：\n",
    "- 文本文件（.txt）\n",
    "- CSV 文件（.csv）\n",
    "- Excel 文件（.xlsx）\n",
    "\n",
    "在进行文件操作时，我们需要使用文件路径来定位文件。文件路径有两种类型：\n",
    "- **相对路径**：相对路径是相对于当前工作目录的路径。例如，`data\\\\example.txt` 是相对于当前目录的一个文件路径。\n",
    "- **绝对路径**：绝对路径是文件在计算机中的完整路径。例如，`C:\\\\Users\\\\Username\\\\Documents\\\\data\\\\example.txt` 是一个 Windows 系统上的绝对路径。\n",
    "\n",
    "### 示例：\n",
    "- 相对路径：`data\\\\example.txt`\n",
    "- 绝对路径：`C:\\\\Users\\\\Username\\\\Documents\\\\data\\\\example.txt`"
   ]
  },
  {
   "metadata": {},
   "cell_type": "markdown",
   "source": [
    "## 2. open()函数的使用\n",
    "open() 函数是 Python 中用来操作文件的重要工具，支持创建文件、读取文件、写入文件等功能。下面将详细介绍 open() 函数的用法，包括如何创建文件、读取文件、写入文件，以及如何使用 with 语句来安全地管理文件。\n",
    "\n",
    "### 2.1 open() 的基本语法\n",
    "`open()` 函数的基本语法如下：\n",
    "\n",
    "```python\n",
    "file_object = open(file_name, mode)\n",
    "```\n",
    "\n",
    "- `file_name`：文件的名称，可以是相对路径或绝对路径 。\n",
    "- `mode`：文件的打开模式，例如 ：\n",
    "  - `'r'`：只读模式（默认）\n",
    "  - `'w'`：写入模式（会覆盖已有内容）\n",
    "  - `'a'`：追加模式（在文件末尾添加内容）\n",
    "  - `'x'`：创建模式\n",
    "  - `'+'`：读写模式\n",
    "  \n",
    "下面我们来了解一下open()函数在不同场景下的使用方法\n",
    "\n",
    "### 2.2 创建和写入文件\n",
    "可以使用 `open()` 函数的 `'w'` 模式或`'x'`来创建文件，它们的区别在于如果你要创建的文件已存在时`'w'`模式会覆盖当前文件，而`'x'`模式会报错`FileExistsError`。"
   ],
   "id": "e403e87dadd34112"
  },
  {
   "metadata": {
    "ExecuteTime": {
     "end_time": "2024-10-27T03:03:25.143654Z",
     "start_time": "2024-10-27T03:03:25.123788Z"
    }
   },
   "cell_type": "code",
   "source": [
    "import os\n",
    "print(os.getcwd())\n",
    "# 创建一个文件，并在文件中写入'Hello World!'\n",
    "file=open('./Resource/Hello.txt','w')\n",
    "file.write('Hello World!')\n",
    "file.close()\n",
    "# 使用'x'模式创建同名文件\n",
    "file=open('./Resource/Hello.txt','x')\n",
    "file.write('Hello World!')\n",
    "file.close()\n"
   ],
   "id": "a6d69da67c7cef31",
   "outputs": [
    {
     "name": "stdout",
     "output_type": "stream",
     "text": [
      "C:\\Users\\Admin\\PycharmProjects\\Python_for_Office_Automation\n"
     ]
    },
    {
     "ename": "FileExistsError",
     "evalue": "[Errno 17] File exists: './Resource/Hello.txt'",
     "output_type": "error",
     "traceback": [
      "\u001B[1;31m---------------------------------------------------------------------------\u001B[0m",
      "\u001B[1;31mFileExistsError\u001B[0m                           Traceback (most recent call last)",
      "Cell \u001B[1;32mIn[3], line 8\u001B[0m\n\u001B[0;32m      6\u001B[0m file\u001B[38;5;241m.\u001B[39mclose()\n\u001B[0;32m      7\u001B[0m \u001B[38;5;66;03m# 使用'x'模式创建同名文件\u001B[39;00m\n\u001B[1;32m----> 8\u001B[0m file\u001B[38;5;241m=\u001B[39m\u001B[38;5;28mopen\u001B[39m(\u001B[38;5;124m'\u001B[39m\u001B[38;5;124m./Resource/Hello.txt\u001B[39m\u001B[38;5;124m'\u001B[39m,\u001B[38;5;124m'\u001B[39m\u001B[38;5;124mx\u001B[39m\u001B[38;5;124m'\u001B[39m)\n\u001B[0;32m      9\u001B[0m file\u001B[38;5;241m.\u001B[39mwrite(\u001B[38;5;124m'\u001B[39m\u001B[38;5;124mHello World!\u001B[39m\u001B[38;5;124m'\u001B[39m)\n\u001B[0;32m     10\u001B[0m file\u001B[38;5;241m.\u001B[39mclose()\n",
      "File \u001B[1;32mC:\\ProgramData\\anaconda3\\envs\\Python_for_Office_Automation\\Lib\\site-packages\\IPython\\core\\interactiveshell.py:324\u001B[0m, in \u001B[0;36m_modified_open\u001B[1;34m(file, *args, **kwargs)\u001B[0m\n\u001B[0;32m    317\u001B[0m \u001B[38;5;28;01mif\u001B[39;00m file \u001B[38;5;129;01min\u001B[39;00m {\u001B[38;5;241m0\u001B[39m, \u001B[38;5;241m1\u001B[39m, \u001B[38;5;241m2\u001B[39m}:\n\u001B[0;32m    318\u001B[0m     \u001B[38;5;28;01mraise\u001B[39;00m \u001B[38;5;167;01mValueError\u001B[39;00m(\n\u001B[0;32m    319\u001B[0m         \u001B[38;5;124mf\u001B[39m\u001B[38;5;124m\"\u001B[39m\u001B[38;5;124mIPython won\u001B[39m\u001B[38;5;124m'\u001B[39m\u001B[38;5;124mt let you open fd=\u001B[39m\u001B[38;5;132;01m{\u001B[39;00mfile\u001B[38;5;132;01m}\u001B[39;00m\u001B[38;5;124m by default \u001B[39m\u001B[38;5;124m\"\u001B[39m\n\u001B[0;32m    320\u001B[0m         \u001B[38;5;124m\"\u001B[39m\u001B[38;5;124mas it is likely to crash IPython. If you know what you are doing, \u001B[39m\u001B[38;5;124m\"\u001B[39m\n\u001B[0;32m    321\u001B[0m         \u001B[38;5;124m\"\u001B[39m\u001B[38;5;124myou can use builtins\u001B[39m\u001B[38;5;124m'\u001B[39m\u001B[38;5;124m open.\u001B[39m\u001B[38;5;124m\"\u001B[39m\n\u001B[0;32m    322\u001B[0m     )\n\u001B[1;32m--> 324\u001B[0m \u001B[38;5;28;01mreturn\u001B[39;00m io_open(file, \u001B[38;5;241m*\u001B[39margs, \u001B[38;5;241m*\u001B[39m\u001B[38;5;241m*\u001B[39mkwargs)\n",
      "\u001B[1;31mFileExistsError\u001B[0m: [Errno 17] File exists: './Resource/Hello.txt'"
     ]
    }
   ],
   "execution_count": 3
  },
  {
   "metadata": {},
   "cell_type": "markdown",
   "source": [
    "### 2.3 读取文件\n",
    "使用 `'r'` 模式可以读取文件内容。如果文件不存在，Python 会抛出 `FileNotFoundError` 异常 。"
   ],
   "id": "d8a99cbb687d6427"
  },
  {
   "metadata": {},
   "cell_type": "code",
   "outputs": [],
   "execution_count": null,
   "source": [
    "# 使用'r'模式读取文件内容\n",
    "file=open('./Resource/Hello.txt','r')\n",
    "content=file.read()\n",
    "file.close()\n",
    "print(content)"
   ],
   "id": "be4c405bb68b336b"
  },
  {
   "cell_type": "markdown",
   "id": "e2941e51",
   "metadata": {},
   "source": "对于多行文件可以使用`readline()`,或者`readlines()`方法来按行读取文件内容"
  },
  {
   "cell_type": "code",
   "id": "56d9761a",
   "metadata": {
    "ExecuteTime": {
     "end_time": "2024-10-27T04:02:07.306673Z",
     "start_time": "2024-10-27T04:02:07.301673Z"
    }
   },
   "source": [
    "# 创建一个有多行文本的文件\n",
    "content='this is first line\\nthis is second line\\nthis is third line'\n",
    "file=open('./Resource/multiple_lines.txt','w')\n",
    "file.write(content)\n",
    "file.close()\n",
    "# 使用readline()读取文件\n",
    "file=open('./Resource/multiple_lines.txt','r')\n",
    "content=file.readline()\n",
    "print(content)\n",
    "content=file.readline()\n",
    "print(content)\n",
    "content=file.readline()\n",
    "print(content)\n",
    "file.close()\n",
    "#使用readlines()读取文件\n",
    "file=open('./Resource/multiple_lines.txt','r')\n",
    "content=file.readlines()\n",
    "print(content)\n",
    "file.close()"
   ],
   "outputs": [
    {
     "name": "stdout",
     "output_type": "stream",
     "text": [
      "this is first line\n",
      "\n",
      "this is second line\n",
      "\n",
      "this is third line\n",
      "['this is first line\\n', 'this is second line\\n', 'this is third line']\n"
     ]
    }
   ],
   "execution_count": 6
  },
  {
   "cell_type": "markdown",
   "id": "85fab13b",
   "metadata": {},
   "source": [
    "### 2.4 写入文件\n",
    "前面已经讲过可以使用`'w'`模式覆盖写入现有文件，对于希望在现有文件基础上增加内容的需求可以使用`'a'`追加模式\n",
    "\n",
    "跟`readlines()`类似，也可以使用 `writelines()` 方法可以将数据写入文件,但是`writeline()`不会自动给数据加上换行符："
   ]
  },
  {
   "cell_type": "code",
   "id": "c9c188a2",
   "metadata": {
    "ExecuteTime": {
     "end_time": "2024-10-27T04:31:42.928418Z",
     "start_time": "2024-10-27T04:31:42.925079Z"
    }
   },
   "source": [
    "# 使用追加模式打开multiple_lines.txt\n",
    "file=open('./Resource/multiple_lines.txt','a')\n",
    "file.writelines(['x\\n','y\\n','z'])\n",
    "file.close()\n",
    "file=open('./Resource/multiple_lines.txt','r')\n",
    "content=file.read()\n",
    "file.close()\n",
    "print(content)"
   ],
   "outputs": [
    {
     "name": "stdout",
     "output_type": "stream",
     "text": [
      "this is first line\n",
      "this is second line\n",
      "this is third linexyzx\n",
      "y\n",
      "z\n",
      "\n"
     ]
    }
   ],
   "execution_count": 9
  },
  {
   "cell_type": "markdown",
   "id": "0cb63513",
   "metadata": {},
   "source": [
    "## 5. 文件操作的异常处理\n",
    "\n",
    "文件操作中常见的错误包括：文件不存在、文件权限问题等。可以使用 `try-except` 结构来捕获并处理这些异常。\n",
    "\n",
    "### 示例：\n"
   ]
  },
  {
   "cell_type": "code",
   "execution_count": null,
   "id": "e2acb247",
   "metadata": {},
   "outputs": [],
   "source": [
    "# 捕获文件不存在的错误\n",
    "try:\n",
    "    with open('non_existent_file.txt', 'r') as file:\n",
    "        content = file.read()\n",
    "except FileNotFoundError:\n",
    "    print(\"文件不存在，请检查文件路径。\")\n"
   ]
  },
  {
   "cell_type": "markdown",
   "id": "8c208f90",
   "metadata": {},
   "source": [
    "## 6. 文件夹和文件的管理\n",
    "\n",
    "使用 `os` 和 `shutil` 模块可以对文件和文件夹进行管理操作，例如创建、删除、重命名等。\n",
    "\n",
    "### 示例：\n"
   ]
  },
  {
   "cell_type": "code",
   "execution_count": null,
   "id": "0e0e304e",
   "metadata": {},
   "outputs": [],
   "source": [
    "import os\n",
    "\n",
    "# 创建一个新的文件夹\n",
    "os.makedirs('new_folder', exist_ok=True)\n",
    "\n",
    "# 重命名文件\n",
    "os.rename('example.txt', 'renamed_example.txt')\n",
    "\n",
    "# 删除文件\n",
    "os.remove('renamed_example.txt')\n",
    "\n",
    "# 遍历文件夹\n",
    "os.listdir('current_folder')\n",
    "\n",
    "# 判断一个文件是否是特定格式\n",
    "filename='content.txt'\n",
    "filename.endswith('.txt')\n",
    "\n"
   ]
  },
  {
   "cell_type": "markdown",
   "id": "e6dc29d8",
   "metadata": {},
   "source": [
    "## 7. 处理 CSV 文件\n",
    "\n",
    "CSV 文件是一种常见的数据存储格式，可以使用 `csv` 模块读取和写入 CSV 文件。\n",
    "\n",
    "### 示例：\n"
   ]
  },
  {
   "cell_type": "code",
   "execution_count": null,
   "id": "35944ff9",
   "metadata": {},
   "outputs": [],
   "source": [
    "import csv\n",
    "\n",
    "# 读取 CSV 文件\n",
    "with open('example.csv', 'r') as csvfile:\n",
    "    reader = csv.reader(csvfile)\n",
    "    for row in reader:\n",
    "        print(row)\n",
    "\n",
    "# 写入 CSV 文件\n",
    "with open('output.csv', 'w', newline='') as csvfile:\n",
    "    writer = csv.writer(csvfile)\n",
    "    writer.writerow(['Name', 'Age'])\n",
    "    writer.writerow(['Alice', '25'])\n",
    "    writer.writerow(['Bob', '30'])\n"
   ]
  },
  {
   "cell_type": "markdown",
   "id": "b2988ac3",
   "metadata": {},
   "source": [
    "## 8. Excel 文件的处理预告\n",
    "\n",
    "在下一部分课程中，我们将学习如何使用 `openpyxl` 库对 Excel 文件进行自动化处理，进一步提高办公效率。\n",
    "\n",
    "- 数据提取\n",
    "- 数据清理\n",
    "- 报表生成\n"
   ]
  }
 ],
 "metadata": {
  "kernelspec": {
   "display_name": "Python 3 (ipykernel)",
   "language": "python",
   "name": "python3"
  },
  "language_info": {
   "codemirror_mode": {
    "name": "ipython",
    "version": 3
   },
   "file_extension": ".py",
   "mimetype": "text/x-python",
   "name": "python",
   "nbconvert_exporter": "python",
   "pygments_lexer": "ipython3",
   "version": "3.12.4"
  }
 },
 "nbformat": 4,
 "nbformat_minor": 5
}
